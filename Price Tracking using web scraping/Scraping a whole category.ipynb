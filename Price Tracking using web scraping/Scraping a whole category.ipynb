{
 "cells": [
  {
   "cell_type": "code",
   "execution_count": 1,
   "metadata": {},
   "outputs": [],
   "source": [
    "import requests\n",
    "import time\n",
    "from selenium import webdriver\n",
    "from selenium.webdriver.chrome.options import Options"
   ]
  },
  {
   "cell_type": "code",
   "execution_count": 2,
   "metadata": {},
   "outputs": [],
   "source": [
    "options = Options()\n",
    "options.add_argument('--headless')\n",
    "options.add_argument('--incognito')\n",
    "options.add_argument('--ignore-certificate-errors')"
   ]
  },
  {
   "cell_type": "code",
   "execution_count": 3,
   "metadata": {},
   "outputs": [],
   "source": [
    "drivers = webdriver.Chrome(options = options)"
   ]
  },
  {
   "cell_type": "code",
   "execution_count": 4,
   "metadata": {},
   "outputs": [],
   "source": [
    "category =[\n",
    "    \"https://www.amazon.in/s?k=laptop\"\n",
    "]"
   ]
  },
  {
   "cell_type": "code",
   "execution_count": 5,
   "metadata": {},
   "outputs": [],
   "source": [
    "from requests_html import HTML"
   ]
  },
  {
   "cell_type": "code",
   "execution_count": 6,
   "metadata": {},
   "outputs": [],
   "source": [
    "first_url = category[0]"
   ]
  },
  {
   "cell_type": "code",
   "execution_count": 7,
   "metadata": {},
   "outputs": [],
   "source": [
    "drivers.get(first_url)"
   ]
  },
  {
   "cell_type": "code",
   "execution_count": 8,
   "metadata": {},
   "outputs": [],
   "source": [
    "body_el = drivers.find_element_by_css_selector(\"body\")"
   ]
  },
  {
   "cell_type": "code",
   "execution_count": 9,
   "metadata": {},
   "outputs": [],
   "source": [
    "html_str = body_el.get_attribute(\"innerHTML\")"
   ]
  },
  {
   "cell_type": "code",
   "execution_count": 10,
   "metadata": {},
   "outputs": [],
   "source": [
    "html_obj = HTML(html =html_str)"
   ]
  },
  {
   "cell_type": "code",
   "execution_count": 11,
   "metadata": {},
   "outputs": [],
   "source": [
    "new_links =[x for x in html_obj.links if x.startswith('/')]"
   ]
  },
  {
   "cell_type": "code",
   "execution_count": 12,
   "metadata": {},
   "outputs": [],
   "source": [
    "page_links = [f\"https://www.amazon.in{x}\"for x in new_links]\n"
   ]
  },
  {
   "cell_type": "code",
   "execution_count": 28,
   "metadata": {},
   "outputs": [
    {
     "data": {
      "text/plain": [
       "180"
      ]
     },
     "execution_count": 28,
     "metadata": {},
     "output_type": "execute_result"
    }
   ],
   "source": [
    "len(page_links)\n"
   ]
  },
  {
   "cell_type": "code",
   "execution_count": 23,
   "metadata": {},
   "outputs": [],
   "source": [
    "def product_scapper(url,title_lookup = \"#productTitle\",price_lookup = \"#priceblock_ourprice\"):\n",
    "    drivers.get(url)\n",
    "    time.sleep(1.2)\n",
    "    body_el = drivers.find_element_by_css_selector(\"body\")\n",
    "    html_str = body_el.get_attribute(\"innerHTML\")\n",
    "    html_obj = HTML(html =html_str)\n",
    "    product_title = html_obj.find(title_lookup,first = True).text\n",
    "    product_price = html_obj.find(price_lookup,first = True).text\n",
    "    return product_title,product_price"
   ]
  },
  {
   "cell_type": "code",
   "execution_count": 18,
   "metadata": {},
   "outputs": [
    {
     "name": "stdout",
     "output_type": "stream",
     "text": [
      "https://www.amazon.in/s?k=laptop&rh=n%3A1375424031%2Cp_n_feature_three_browse-bin%3A1464434031&dc&qid=1595393244&rnid=1464431031&ref=sr_nr_p_n_feature_three_browse-bin_3\n"
     ]
    }
   ],
   "source": [
    "first_product_link = page_links[4]\n",
    "\n",
    "print(first_product_link)"
   ]
  },
  {
   "cell_type": "code",
   "execution_count": 26,
   "metadata": {},
   "outputs": [
    {
     "name": "stdout",
     "output_type": "stream",
     "text": [
      "https://www.amazon.in/gp/slredirect/picassoRedirect.html/ref=pa_sp_atf_aps_sr_pg1_1?ie=UTF8&adId=A033139913AQNU9KJYP43&url=%2FLenovo-81UE0034IN-13-3-inch-Convertible-Integrated%2Fdp%2FB083PFZXC4%2Fref%3Dsr_1_2_sspa%3Fdchild%3D1%26keywords%3Dlaptop%26qid%3D1595393244%26sr%3D8-2-spons%26psc%3D1&qualifier=1595393244&id=2375123106275013&widgetName=sp_atf Lenovo Yoga C640 81UE0034IN 13.3-inch FHD IPS Convertible Laptop (10th Gen CORE I5-10210U/8GB/512GB SSD/Windows 10/Microsoft Office/Integrated Graphics), Iron Grey ₹ 80,990.00\n",
      "https://www.amazon.in/Acer-SF314-41-Dual-core-processor-Integrated/dp/B08BVP6CRW/ref=sr_1_20?dchild=1&keywords=laptop&qid=1595393244&sr=8-20 Acer Swift 3 SF314-41 14-inch Laptop (AMD Athlon 300U Dual-core processor/4GB/1TB HDD/Window 10 Home 64Bit/Integrated Graphics), Silver ₹ 34,999.00\n",
      "https://www.amazon.in/Lenovo-Ideapad-Windows-Platinum-81WE004YIN/dp/B08BSGB42Y/ref=sr_1_10?dchild=1&keywords=laptop&qid=1595393244&sr=8-10#customerReviews Lenovo Ideapad Slim 3i Intel Core i5 10th Gen 15.6 FHD Thin and Light Laptop (8GB/1TB+256GB SSD/Windows/Office/Platinum Grey/1.85Kg), 81WE004YIN ₹ 50,990.00\n",
      "https://www.amazon.in/HP-du2069TU-15-6-inch-i3-1005G1-Integrated/dp/B087S3FPDG/ref=sr_1_6?dchild=1&keywords=laptop&qid=1595393244&sr=8-6 HP 15s du2069TU 15.6-inch Laptop (10th Gen i3-1005G1/4GB/1TB/Windows 10 Home/Integrated Graphics), Jet Black ₹ 34,859.00\n",
      "https://www.amazon.in/gp/slredirect/picassoRedirect.html/ref=pa_sp_btf_aps_sr_pg1_1?ie=UTF8&adId=A03313431VJ5GU7KXJUVT&url=%2FLenovo-Ideapad-Generation-Windows-81NF006PIN%2Fdp%2FB08696HYMC%2Fref%3Dsr_1_21_sspa%3Fdchild%3D1%26keywords%3Dlaptop%26qid%3D1595393244%26sr%3D8-21-spons%26psc%3D1&qualifier=1595393244&id=2375123106275013&widgetName=sp_btf Lenovo Ideapad S540 10th Generation Intel Core i5 14 inch FHD Thin and Light Laptop (8GB/512GB SSD/Windows 10/Office 2019/Grey/1.5Kg), 81NF006PIN ₹ 62,990.00\n",
      "https://www.amazon.in/Acer-15-6-inch-Windows-Obsidian-A315-42/dp/B08C339Z1L/ref=sr_1_18?dchild=1&keywords=laptop&qid=1595393244&sr=8-18#customerReviews Acer Aspire 3 Ryzen 3 15.6-inch Laptop (4GB/1TB/Windows 10/Obsidian Black/2.3kg), A315-42 ₹ 29,990.00\n",
      "https://www.amazon.in/HP-Processor-14-inch-Laptop-cs0029TU/dp/B085W7G5TL/ref=sr_1_7?dchild=1&keywords=laptop&qid=1595393244&sr=8-7#customerReviews HP 14 8th Gen Intel Core i3 Processor 14-inch HD Laptop (8GB/256GB SSD/Win10 Home/MS Office H&S Edition/Jet Black), 14q cs0029TU ₹ 34,990.00\n",
      "https://www.amazon.in/Lenovo-Ideapad-Windows-Platinum-81WE004YIN/dp/B08BSGB42Y/ref=sr_1_10?dchild=1&keywords=laptop&qid=1595393244&sr=8-10 Lenovo Ideapad Slim 3i Intel Core i5 10th Gen 15.6 FHD Thin and Light Laptop (8GB/1TB+256GB SSD/Windows/Office/Platinum Grey/1.85Kg), 81WE004YIN ₹ 50,990.00\n",
      "https://www.amazon.in/gp/slredirect/picassoRedirect.html/ref=pa_sp_atf_aps_sr_pg1_1?ie=UTF8&adId=A08911563DA8D9L7B020P&url=%2FDell-Inspiron-N7380-Integrated-Graphics%2Fdp%2FB07NVMLD6R%2Fref%3Dsr_1_1_sspa%3Fdchild%3D1%26keywords%3Dlaptop%26qid%3D1595393244%26sr%3D8-1-spons%26psc%3D1&qualifier=1595393244&id=2375123106275013&widgetName=sp_atf Dell Inspiron 7380 13.3-inch FHD Thin & Light Laptop (Core i7/16GB/512GB SSD/Win 10 + MS Office/Integrated Graphics) ₹ 96,990.00\n",
      "https://www.amazon.in/LifeDigital-Zed-Note-CX3-Touchscreen/dp/B0854QKMFY/ref=sr_1_17?dchild=1&keywords=laptop&qid=1595393244&sr=8-17#customerReviews LifeDigital Zed Note CX3 13.3-inch Touchscreen Convertible Laptop (Intel Core i3/8GB/256GB SSD/Windows 10/Intel HD Graphics), Silver ₹ 33,205.00\n",
      "https://www.amazon.in/gp/slredirect/picassoRedirect.html/ref=pa_sp_btf_aps_sr_pg1_1?ie=UTF8&adId=A03313431VJ5GU7KXJUVT&url=%2FLenovo-Ideapad-Generation-Windows-81NF006PIN%2Fdp%2FB08696HYMC%2Fref%3Dsr_1_21_sspa%3Fdchild%3D1%26keywords%3Dlaptop%26qid%3D1595393244%26sr%3D8-21-spons%26psc%3D1&qualifier=1595393244&id=2375123106275013&widgetName=sp_btf#customerReviews Lenovo Ideapad S540 10th Generation Intel Core i5 14 inch FHD Thin and Light Laptop (8GB/512GB SSD/Windows 10/Office 2019/Grey/1.5Kg), 81NF006PIN ₹ 62,990.00\n",
      "https://www.amazon.in/HP-Processor-14-inch-i5-1035G1-cs3009TU/dp/B087S265GM/ref=sr_1_9?dchild=1&keywords=laptop&qid=1595393244&sr=8-9#customerReviews HP 14 10th Gen Intel Core i5 Processor 14-inch Laptop (i5-1035G1/8GB/1TB HDD + 256GB SSD/Win 10 Home/MS Office/Natural Silver ),14s cs3009TU ₹ 59,999.00\n",
      "https://www.amazon.in/HP-ds0058TU-15-6-inch-i3-8130U-Windows/dp/B085W6QPYF/ref=sr_1_14?dchild=1&keywords=laptop&qid=1595393244&sr=8-14 HP 15q ds0058TU 15.6-inch Laptop (8th Gen Core i3-8130U/4GB/1TB HDD/Windows 10 Home/MS Office 2019), Jet Black ₹ 35,469.00\n",
      "https://www.amazon.in/gp/slredirect/picassoRedirect.html/ref=pa_sp_atf_aps_sr_pg1_1?ie=UTF8&adId=A033139913AQNU9KJYP43&url=%2FLenovo-81UE0034IN-13-3-inch-Convertible-Integrated%2Fdp%2FB083PFZXC4%2Fref%3Dsr_1_2_sspa%3Fdchild%3D1%26keywords%3Dlaptop%26qid%3D1595393244%26sr%3D8-2-spons%26psc%3D1&qualifier=1595393244&id=2375123106275013&widgetName=sp_atf#customerReviews Lenovo Yoga C640 81UE0034IN 13.3-inch FHD IPS Convertible Laptop (10th Gen CORE I5-10210U/8GB/512GB SSD/Windows 10/Microsoft Office/Integrated Graphics), Iron Grey ₹ 80,990.00\n",
      "https://www.amazon.in/HP-du2069TU-15-6-inch-i3-1005G1-Integrated/dp/B087S3FPDG/ref=sr_1_6?dchild=1&keywords=laptop&qid=1595393244&sr=8-6#customerReviews HP 15s du2069TU 15.6-inch Laptop (10th Gen i3-1005G1/4GB/1TB/Windows 10 Home/Integrated Graphics), Jet Black ₹ 34,859.00\n",
      "https://www.amazon.in/Lenovo-ThinkPad-11-6-Business-Laptop/dp/B0848RB868/ref=sr_1_15?dchild=1&keywords=laptop&qid=1595393244&sr=8-15 Lenovo ThinkPad 11E (5th Gen) 11.6\" HD Business Laptop - Intel Celeron Quad-Core, 4 GB Ram, 128GB SSD, Windows 10 Pro (Renewed) ₹ 34,999.00\n",
      "https://www.amazon.in/HP-ds0058TU-15-6-inch-i3-8130U-Windows/dp/B085W6QPYF/ref=sr_1_14?dchild=1&keywords=laptop&qid=1595393244&sr=8-14#customerReviews HP 15q ds0058TU 15.6-inch Laptop (8th Gen Core i3-8130U/4GB/1TB HDD/Windows 10 Home/MS Office 2019), Jet Black ₹ 35,469.00\n",
      "https://www.amazon.in/gp/slredirect/picassoRedirect.html/ref=pa_sp_btf_aps_sr_pg1_1?ie=UTF8&adId=A03317432WJLTLO8NU00M&url=%2FLenovo-81XA002SIN-13-3-inch-I5-10210U-Microsoft%2Fdp%2FB083PDCP94%2Fref%3Dsr_1_22_sspa%3Fdchild%3D1%26keywords%3Dlaptop%26qid%3D1595393244%26sr%3D8-22-spons%26psc%3D1&qualifier=1595393244&id=2375123106275013&widgetName=sp_btf#customerReviews Lenovo IdeaPad S540 81XA002SIN 13.3-inch QHD Ultra Thin and Light Laptop (10th Gen CORE I5-10210U/8GB/512GB SSD/Windows 10/Microsoft Office/2GB Graphics), Light Silver ₹ 79,990.00\n",
      "https://www.amazon.in/Acer-One-14-Z2-485-Processor/dp/B08D8H4382/ref=sr_1_5?dchild=1&keywords=laptop&qid=1595393244&sr=8-5 Acer One 14 Z2-485 14-inch Laptop (Intel Pentium Gold Processor) 4415U/4GB/1TB HDD/Windows 10 Home Single Language 64 Bit with Intel HD 610 Graphics 3 Years Warranty Black ₹ 29,000.00\n",
      "https://www.amazon.in/gp/slredirect/picassoRedirect.html/ref=pa_sp_atf_aps_sr_pg1_1?ie=UTF8&adId=A08911563DA8D9L7B020P&url=%2FDell-Inspiron-N7380-Integrated-Graphics%2Fdp%2FB07NVMLD6R%2Fref%3Dsr_1_1_sspa%3Fdchild%3D1%26keywords%3Dlaptop%26qid%3D1595393244%26sr%3D8-1-spons%26psc%3D1&qualifier=1595393244&id=2375123106275013&widgetName=sp_atf#customerReviews Dell Inspiron 7380 13.3-inch FHD Thin & Light Laptop (Core i7/16GB/512GB SSD/Win 10 + MS Office/Integrated Graphics) ₹ 96,990.00\n",
      "https://www.amazon.in/gp/slredirect/picassoRedirect.html/ref=pa_sp_btf_aps_sr_pg1_1?ie=UTF8&adId=A03317432WJLTLO8NU00M&url=%2FLenovo-81XA002SIN-13-3-inch-I5-10210U-Microsoft%2Fdp%2FB083PDCP94%2Fref%3Dsr_1_22_sspa%3Fdchild%3D1%26keywords%3Dlaptop%26qid%3D1595393244%26sr%3D8-22-spons%26psc%3D1&qualifier=1595393244&id=2375123106275013&widgetName=sp_btf Lenovo IdeaPad S540 81XA002SIN 13.3-inch QHD Ultra Thin and Light Laptop (10th Gen CORE I5-10210U/8GB/512GB SSD/Windows 10/Microsoft Office/2GB Graphics), Light Silver ₹ 79,990.00\n",
      "https://www.amazon.in/Lenovo-V14-14-inch-Laptop-82C6000KIH/dp/B08CXSLPTZ/ref=sr_1_16?dchild=1&keywords=laptop&qid=1595393244&sr=8-16 Lenovo V14 AMD RYZEN 3 3250U 14-inch HD Laptop (4GB/1TB/Dos/Iron Grey/1.85Kg) 82C6000KIH ₹ 36,181.00\n",
      "https://www.amazon.in/LifeDigital-Zed-Note-CX3-Touchscreen/dp/B0854QKMFY/ref=sr_1_17?dchild=1&keywords=laptop&qid=1595393244&sr=8-17 LifeDigital Zed Note CX3 13.3-inch Touchscreen Convertible Laptop (Intel Core i3/8GB/256GB SSD/Windows 10/Intel HD Graphics), Silver ₹ 33,205.00\n"
     ]
    },
    {
     "name": "stdout",
     "output_type": "stream",
     "text": [
      "https://www.amazon.in/gp/slredirect/picassoRedirect.html/ref=pa_sp_mtf_aps_sr_pg1_1?ie=UTF8&adId=A033149961YMO7D9PJAR&url=%2FLenovo-Ideapad-Laptop-Windows-81N8009RIN%2Fdp%2FB07ZP4WCXZ%2Fref%3Dsr_1_11_sspa%3Fdchild%3D1%26keywords%3Dlaptop%26qid%3D1595393244%26sr%3D8-11-spons%26psc%3D1&qualifier=1595393244&id=2375123106275013&widgetName=sp_mtf#customerReviews Lenovo Ideapad S340 8th Gen Intel Core i5 15.6 inch FHD Thin and Light Laptop (8GB/512GB SSD/Windows 10/2GB MX230/Grey/1.8Kg), 81N8009RIN ₹ 57,990.00\n",
      "https://www.amazon.in/Acer-15-6-inch-Windows-Obsidian-A315-42/dp/B08C339Z1L/ref=sr_1_18?dchild=1&keywords=laptop&qid=1595393244&sr=8-18 Acer Aspire 3 Ryzen 3 15.6-inch Laptop (4GB/1TB/Windows 10/Obsidian Black/2.3kg), A315-42 ₹ 29,990.00\n",
      "https://www.amazon.in/HP-Processor-14-inch-Laptop-cs0029TU/dp/B085W7G5TL/ref=sr_1_7?dchild=1&keywords=laptop&qid=1595393244&sr=8-7 HP 14 8th Gen Intel Core i3 Processor 14-inch HD Laptop (8GB/256GB SSD/Win10 Home/MS Office H&S Edition/Jet Black), 14q cs0029TU ₹ 34,990.00\n",
      "https://www.amazon.in/gp/slredirect/picassoRedirect.html/ref=pa_sp_mtf_aps_sr_pg1_1?ie=UTF8&adId=A03312191AS9A4B8T9M5V&url=%2FLenovo-Ideapad-Convertible-Laptop-81TK00GTIN%2Fdp%2FB08695HMJQ%2Fref%3Dsr_1_12_sspa%3Fdchild%3D1%26keywords%3Dlaptop%26qid%3D1595393244%26sr%3D8-12-spons%26psc%3D1&qualifier=1595393244&id=2375123106275013&widgetName=sp_mtf Lenovo Ideapad C340 Intel Core i5 10th Gen 14 inch FHD 2 in 1 Convertible Laptop (8GB/512GB SSD/Window/Office/Gray/1.6Kg), 81TK00GTIN ₹ 65,990.00\n",
      "https://www.amazon.in/gp/slredirect/picassoRedirect.html/ref=pa_sp_mtf_aps_sr_pg1_1?ie=UTF8&adId=A033149961YMO7D9PJAR&url=%2FLenovo-Ideapad-Laptop-Windows-81N8009RIN%2Fdp%2FB07ZP4WCXZ%2Fref%3Dsr_1_11_sspa%3Fdchild%3D1%26keywords%3Dlaptop%26qid%3D1595393244%26sr%3D8-11-spons%26psc%3D1&qualifier=1595393244&id=2375123106275013&widgetName=sp_mtf Lenovo Ideapad S340 8th Gen Intel Core i5 15.6 inch FHD Thin and Light Laptop (8GB/512GB SSD/Windows 10/2GB MX230/Grey/1.8Kg), 81N8009RIN ₹ 57,990.00\n",
      "https://www.amazon.in/gp/slredirect/picassoRedirect.html/ref=pa_sp_mtf_aps_sr_pg1_1?ie=UTF8&adId=A03312191AS9A4B8T9M5V&url=%2FLenovo-Ideapad-Convertible-Laptop-81TK00GTIN%2Fdp%2FB08695HMJQ%2Fref%3Dsr_1_12_sspa%3Fdchild%3D1%26keywords%3Dlaptop%26qid%3D1595393244%26sr%3D8-12-spons%26psc%3D1&qualifier=1595393244&id=2375123106275013&widgetName=sp_mtf#customerReviews Lenovo Ideapad C340 Intel Core i5 10th Gen 14 inch FHD 2 in 1 Convertible Laptop (8GB/512GB SSD/Window/Office/Gray/1.6Kg), 81TK00GTIN ₹ 65,990.00\n",
      "https://www.amazon.in/Lenovo-ThinkPad-11-6-Business-Laptop/dp/B0848RB868/ref=sr_1_15?dchild=1&keywords=laptop&qid=1595393244&sr=8-15#customerReviews Lenovo ThinkPad 11E (5th Gen) 11.6\" HD Business Laptop - Intel Celeron Quad-Core, 4 GB Ram, 128GB SSD, Windows 10 Pro (Renewed) ₹ 34,999.00\n",
      "https://www.amazon.in/ASUS-VivoBook-Integrated-Transparent-M409DA-EK483TS/dp/B08BS4B8FG/ref=sr_1_3?dchild=1&keywords=laptop&qid=1595393244&sr=8-3 ASUS VivoBook 14 AMD Ryzen 3 3250U 14-inch FHD Compact and Light Laptop (4GB RAM/256GB NVMe SSD/Windows 10/MS Office 2019/Integrated Graphics/Transparent Silver/1.60 kg), M409DA-EK483TS ₹ 30,077.00\n",
      "https://www.amazon.in/HP-Processor-14-inch-i5-1035G1-cs3009TU/dp/B087S265GM/ref=sr_1_9?dchild=1&keywords=laptop&qid=1595393244&sr=8-9 HP 14 10th Gen Intel Core i5 Processor 14-inch Laptop (i5-1035G1/8GB/1TB HDD + 256GB SSD/Win 10 Home/MS Office/Natural Silver ),14s cs3009TU ₹ 59,999.00\n"
     ]
    }
   ],
   "source": [
    "for link in page_links:\n",
    "    title,price = (None,None)\n",
    "    try:\n",
    "        title,price =product_scapper(link)\n",
    "    except:\n",
    "        pass\n",
    "    if title !=None and price!=None:\n",
    "        print(link,title,price)"
   ]
  }
 ],
 "metadata": {
  "kernelspec": {
   "display_name": "Python 3",
   "language": "python",
   "name": "python3"
  },
  "language_info": {
   "codemirror_mode": {
    "name": "ipython",
    "version": 3
   },
   "file_extension": ".py",
   "mimetype": "text/x-python",
   "name": "python",
   "nbconvert_exporter": "python",
   "pygments_lexer": "ipython3",
   "version": "3.7.7"
  }
 },
 "nbformat": 4,
 "nbformat_minor": 4
}
