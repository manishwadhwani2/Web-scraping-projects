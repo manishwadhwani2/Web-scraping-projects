{
 "cells": [
  {
   "cell_type": "code",
   "execution_count": 1,
   "metadata": {},
   "outputs": [],
   "source": [
    "\n",
    "from pathlib import Path\n",
    "import re\n",
    "import requests\n",
    "import time\n",
    "import datetime\n",
    "\n",
    "import pandas as pd\n",
    "from requests_html import HTML\n",
    "from selenium import webdriver\n",
    "from selenium.webdriver.chrome.options import Options"
   ]
  },
  {
   "cell_type": "code",
   "execution_count": 2,
   "metadata": {},
   "outputs": [],
   "source": [
    "BASE_DIR = Path.cwd()\n",
    "DATA_DIR = BASE_DIR / \"data\" # os.path.join(BASE_DIR, 'data')\n",
    "if not DATA_DIR.exists(): # os.path.exists(DATA_DIR)\n",
    "    DATA_DIR.mkdir(exist_ok=True) # os.makedirs(DATA_DIR, exist_ok=True)\n",
    "    \n",
    "product_category_links_output = DATA_DIR / \"category-products.csv\"\n",
    "product_output = DATA_DIR / \"products.csv\""
   ]
  },
  {
   "cell_type": "code",
   "execution_count": 3,
   "metadata": {},
   "outputs": [],
   "source": [
    "\n",
    "options = Options()\n",
    "options.add_argument(\"--headless\")\n",
    "options.add_argument('--incognito')\n",
    "options.add_argument('--ignore-certificate-errors')\n",
    "driver = webdriver.Chrome(options=options)"
   ]
  },
  {
   "cell_type": "code",
   "execution_count": 12,
   "metadata": {},
   "outputs": [],
   "source": [
    "categories = [\n",
    "    {\"name\": \"Laptops\", \"url\": \"https://www.amazon.in/s?k=laptop\"},\n",
    "    {\"name\": \"N95 Mask\", \"url\": \"https://www.amazon.in/s?k=n95+mask\"},\n",
    "    {\"name\": \"Notebook\", \"url\": \"https://www.amazon.in/s?k=notebook\"}\n",
    "]"
   ]
  },
  {
   "cell_type": "code",
   "execution_count": 5,
   "metadata": {},
   "outputs": [],
   "source": [
    "\n",
    "regex_options = [\n",
    "    r\"https://www.amazon.in/gp/product/(?P<product_id>[\\w-]+)/\",\n",
    "    r\"https://www.amazon.in/dp/(?P<product_id>[\\w-]+)/\",\n",
    "    r\"https://www.amazon.in/(?P<slug>[\\w-]+)/dp/(?P<product_id>[\\w-]+)/\",\n",
    "]\n",
    "\n",
    "def extract_product_id_from_url(url):\n",
    "    product_id = None\n",
    "    for regex_str in regex_options:\n",
    "        regex = re.compile(regex_str)\n",
    "        match = regex.match(url)\n",
    "        if match != None:\n",
    "            try:\n",
    "                product_id = match['product_id']\n",
    "            except:\n",
    "                pass\n",
    "    return product_id"
   ]
  },
  {
   "cell_type": "code",
   "execution_count": 6,
   "metadata": {},
   "outputs": [],
   "source": [
    "def clean_page_links(page_links=[], category=None):\n",
    "    final_page_links = []\n",
    "    for url in page_links:\n",
    "        product_id = extract_product_id_from_url(url)\n",
    "        if product_id != None:\n",
    "            final_page_links.append({\"url\": url, \"product_id\": product_id, \"category\": category})\n",
    "    return final_page_links"
   ]
  },
  {
   "cell_type": "code",
   "execution_count": 7,
   "metadata": {},
   "outputs": [],
   "source": [
    "def scrace_category_product_links(categories=[]):\n",
    "    all_product_links = []\n",
    "    for category in categories:\n",
    "        time.sleep(1.5)\n",
    "        url = category.get(\"url\")\n",
    "        driver.get(url)\n",
    "        body_el = driver.find_element_by_css_selector(\"body\")\n",
    "        html_str = body_el.get_attribute(\"innerHTML\")\n",
    "        html_obj = HTML(html=html_str)\n",
    "        page_links = [f\"https://www.amazon.in{x}\" for x in html_obj.links if x.startswith(\"/\")]\n",
    "        cleaned_links = clean_page_links(page_links=page_links, category=category)\n",
    "        all_product_links += cleaned_links\n",
    "    return all_product_links"
   ]
  },
  {
   "cell_type": "code",
   "execution_count": 8,
   "metadata": {},
   "outputs": [],
   "source": [
    "def extract_categories_and_save(categories=[]):\n",
    "    all_product_links = scrace_category_product_links(categories)\n",
    "    category_df = pd.DataFrame(all_product_links)\n",
    "    category_df.to_csv(product_category_links_output, index=False)"
   ]
  },
  {
   "cell_type": "code",
   "execution_count": 13,
   "metadata": {},
   "outputs": [],
   "source": [
    "extract_categories_and_save(categories=categories)"
   ]
  },
  {
   "cell_type": "code",
   "execution_count": 14,
   "metadata": {},
   "outputs": [],
   "source": [
    "def scrape_product_page(url, title_lookup = \"#productTitle\", price_lookup = \"#priceblock_ourprice\"):\n",
    "    driver.get(url)\n",
    "    time.sleep(1.5)\n",
    "    body_el = driver.find_element_by_css_selector(\"body\")\n",
    "    html_str = body_el.get_attribute(\"innerHTML\")\n",
    "    html_obj = HTML(html=html_str)\n",
    "    product_title = html_obj.find(title_lookup, first=True).text\n",
    "    product_price = html_obj.find(price_lookup, first=True).text\n",
    "    return product_title, product_price"
   ]
  },
  {
   "cell_type": "code",
   "execution_count": 15,
   "metadata": {},
   "outputs": [],
   "source": [
    "def perform_scrape(cleaned_items=[]):\n",
    "    data_extracted = []\n",
    "    for obj in cleaned_items:\n",
    "        link = obj['url']\n",
    "        product_id = obj['product_id']\n",
    "        title, price = (None, None)\n",
    "        try:\n",
    "            title, price = scrape_product_page(link)\n",
    "        except:\n",
    "            pass\n",
    "        if title != None and price != None:\n",
    "            print(link, title, price)\n",
    "        product_data = {\n",
    "            \"url\": link,\n",
    "            \"product_id\": product_id,\n",
    "            \"title\": title,\n",
    "            \"price\": price\n",
    "        }\n",
    "        data_extracted.append(product_data)\n",
    "    return data_extracted"
   ]
  },
  {
   "cell_type": "code",
   "execution_count": 16,
   "metadata": {},
   "outputs": [],
   "source": [
    "\n",
    "def row_scrape_event(row, *args, **kwargs):\n",
    "    link = row['url']\n",
    "    scraped = 0\n",
    "    try:\n",
    "        scraped = row['scraped']\n",
    "    except:\n",
    "        pass\n",
    "    # print(link)\n",
    "    if scraped == 1 or scraped == \"1\":\n",
    "        print(\"skipped\")\n",
    "        return row\n",
    "    product_id = row['product_id']\n",
    "    title, price = (None, None)\n",
    "    try:\n",
    "        title, price = scrape_product_page(link)\n",
    "    except:\n",
    "        pass\n",
    "    row['title'] = title\n",
    "    row['price'] = price\n",
    "    row['scraped'] = 1\n",
    "    row['timestamp'] = datetime.datetime.now().timestamp()\n",
    "    print(link, title, price)\n",
    "    return row"
   ]
  },
  {
   "cell_type": "code",
   "execution_count": 17,
   "metadata": {},
   "outputs": [
    {
     "data": {
      "text/html": [
       "<div>\n",
       "<style scoped>\n",
       "    .dataframe tbody tr th:only-of-type {\n",
       "        vertical-align: middle;\n",
       "    }\n",
       "\n",
       "    .dataframe tbody tr th {\n",
       "        vertical-align: top;\n",
       "    }\n",
       "\n",
       "    .dataframe thead th {\n",
       "        text-align: right;\n",
       "    }\n",
       "</style>\n",
       "<table border=\"1\" class=\"dataframe\">\n",
       "  <thead>\n",
       "    <tr style=\"text-align: right;\">\n",
       "      <th></th>\n",
       "      <th>url</th>\n",
       "      <th>product_id</th>\n",
       "      <th>category</th>\n",
       "    </tr>\n",
       "  </thead>\n",
       "  <tbody>\n",
       "    <tr>\n",
       "      <th>0</th>\n",
       "      <td>https://www.amazon.in/LifeDigital-Zed-Note-CX3...</td>\n",
       "      <td>B0854QKMFY</td>\n",
       "      <td>{'name': 'Laptops', 'url': 'https://www.amazon...</td>\n",
       "    </tr>\n",
       "    <tr>\n",
       "      <th>1</th>\n",
       "      <td>https://www.amazon.in/LifeDigital-Zed-AIR-Wind...</td>\n",
       "      <td>B0854QFQFV</td>\n",
       "      <td>{'name': 'Laptops', 'url': 'https://www.amazon...</td>\n",
       "    </tr>\n",
       "    <tr>\n",
       "      <th>2</th>\n",
       "      <td>https://www.amazon.in/LifeDigital-Zed-AIR-Wind...</td>\n",
       "      <td>B0854QFQFV</td>\n",
       "      <td>{'name': 'Laptops', 'url': 'https://www.amazon...</td>\n",
       "    </tr>\n",
       "    <tr>\n",
       "      <th>3</th>\n",
       "      <td>https://www.amazon.in/Lenovo-ThinkPad-11-6-Bus...</td>\n",
       "      <td>B0848RB868</td>\n",
       "      <td>{'name': 'Laptops', 'url': 'https://www.amazon...</td>\n",
       "    </tr>\n",
       "    <tr>\n",
       "      <th>4</th>\n",
       "      <td>https://www.amazon.in/Lenovo-ThinkPad-11-6-Bus...</td>\n",
       "      <td>B0848RB868</td>\n",
       "      <td>{'name': 'Laptops', 'url': 'https://www.amazon...</td>\n",
       "    </tr>\n",
       "  </tbody>\n",
       "</table>\n",
       "</div>"
      ],
      "text/plain": [
       "                                                 url  product_id  \\\n",
       "0  https://www.amazon.in/LifeDigital-Zed-Note-CX3...  B0854QKMFY   \n",
       "1  https://www.amazon.in/LifeDigital-Zed-AIR-Wind...  B0854QFQFV   \n",
       "2  https://www.amazon.in/LifeDigital-Zed-AIR-Wind...  B0854QFQFV   \n",
       "3  https://www.amazon.in/Lenovo-ThinkPad-11-6-Bus...  B0848RB868   \n",
       "4  https://www.amazon.in/Lenovo-ThinkPad-11-6-Bus...  B0848RB868   \n",
       "\n",
       "                                            category  \n",
       "0  {'name': 'Laptops', 'url': 'https://www.amazon...  \n",
       "1  {'name': 'Laptops', 'url': 'https://www.amazon...  \n",
       "2  {'name': 'Laptops', 'url': 'https://www.amazon...  \n",
       "3  {'name': 'Laptops', 'url': 'https://www.amazon...  \n",
       "4  {'name': 'Laptops', 'url': 'https://www.amazon...  "
      ]
     },
     "execution_count": 17,
     "metadata": {},
     "output_type": "execute_result"
    }
   ],
   "source": [
    "df = pd.read_csv(product_category_links_output)\n",
    "df.head()"
   ]
  },
  {
   "cell_type": "code",
   "execution_count": 18,
   "metadata": {},
   "outputs": [
    {
     "data": {
      "text/plain": [
       "(211, 3)"
      ]
     },
     "execution_count": 18,
     "metadata": {},
     "output_type": "execute_result"
    }
   ],
   "source": [
    "df.shape"
   ]
  },
  {
   "cell_type": "code",
   "execution_count": 19,
   "metadata": {},
   "outputs": [],
   "source": [
    "df_sub = df.copy() # df.head(n=10)"
   ]
  },
  {
   "cell_type": "code",
   "execution_count": 20,
   "metadata": {},
   "outputs": [
    {
     "name": "stdout",
     "output_type": "stream",
     "text": [
      "https://www.amazon.in/LifeDigital-Zed-Note-CX3-Touchscreen/dp/B0854QKMFY/ref=sr_1_20?dchild=1&keywords=laptop&qid=1595401659&sr=8-20#customerReviews LifeDigital Zed Note CX3 13.3-inch Touchscreen Convertible Laptop (Intel Core i3/8GB/256GB SSD/Windows 10/Intel HD Graphics), Silver ₹ 33,205.00\n",
      "https://www.amazon.in/LifeDigital-Zed-Note-CX3-Touchscreen/dp/B0854QKMFY/ref=sr_1_20?dchild=1&keywords=laptop&qid=1595401659&sr=8-20#customerReviews LifeDigital Zed Note CX3 13.3-inch Touchscreen Convertible Laptop (Intel Core i3/8GB/256GB SSD/Windows 10/Intel HD Graphics), Silver ₹ 33,205.00\n",
      "https://www.amazon.in/LifeDigital-Zed-AIR-Windows-Graphics/dp/B0854QFQFV/ref=sr_1_6?dchild=1&keywords=laptop&qid=1595401659&sr=8-6 LifeDigital Zed AIR X 2020 15.6 inch Laptop (Intel Core i3 5005U/8GB/256GB SSD/Windows 10/Intel HD 5500 Graphics), Black ₹ 27,788.00\n",
      "https://www.amazon.in/LifeDigital-Zed-AIR-Windows-Graphics/dp/B0854QFQFV/ref=sr_1_6?dchild=1&keywords=laptop&qid=1595401659&sr=8-6#customerReviews LifeDigital Zed AIR X 2020 15.6 inch Laptop (Intel Core i3 5005U/8GB/256GB SSD/Windows 10/Intel HD 5500 Graphics), Black ₹ 27,788.00\n",
      "https://www.amazon.in/Lenovo-ThinkPad-11-6-Business-Laptop/dp/B0848RB868/ref=sr_1_9?dchild=1&keywords=laptop&qid=1595401659&sr=8-9#customerReviews Lenovo ThinkPad 11E (5th Gen) 11.6\" HD Business Laptop - Intel Celeron Quad-Core, 4 GB Ram, 128GB SSD, Windows 10 Pro (Renewed) ₹ 34,999.00\n",
      "https://www.amazon.in/Lenovo-ThinkPad-11-6-Business-Laptop/dp/B0848RB868/ref=sr_1_9?dchild=1&keywords=laptop&qid=1595401659&sr=8-9 Lenovo ThinkPad 11E (5th Gen) 11.6\" HD Business Laptop - Intel Celeron Quad-Core, 4 GB Ram, 128GB SSD, Windows 10 Pro (Renewed) ₹ 34,999.00\n",
      "https://www.amazon.in/Acer-A315-56-15-6-inch-i3-1005G1-Graphics/dp/B088CFBQFN/ref=sr_1_19?dchild=1&keywords=laptop&qid=1595401659&sr=8-19 Acer Aspire 3 A315-56 15.6-inch Laptop (Intel Core i3-1005G1/4GB/1TB HDD/Window 10, Home, 64Bit/Intel UHD Graphics), Black ₹ 37,490.00\n",
      "https://www.amazon.in/Lenovo-Ideapad-A6-9225-Windows-81N30063IN/dp/B081Z4H8BM/ref=sr_1_3?dchild=1&keywords=laptop&qid=1595401659&sr=8-3 None None\n",
      "https://www.amazon.in/Lenovo-V14-14-inch-Laptop-82C6000KIH/dp/B08CXSLPTZ/ref=sr_1_7?dchild=1&keywords=laptop&qid=1595401659&sr=8-7 Lenovo V14 AMD RYZEN 3 3250U 14-inch HD Laptop (4GB/1TB/Dos/Iron Grey/1.85Kg) 82C6000KIH ₹ 36,181.00\n",
      "https://www.amazon.in/Lenovo-Ideapad-Generation-Windows-81VD00D3IN/dp/B088RM62WJ/ref=sr_1_8?dchild=1&keywords=laptop&qid=1595401659&sr=8-8 Lenovo Ideapad S145 8th Generation Intel Core i3 15.6 inch FHD Thin and Light Laptop (8GB/1 TB HDD/Windows 10/Office 2019/Grey/1.85Kg), 81VD00D3IN ₹ 36,990.00\n",
      "https://www.amazon.in/ASUS-VivoBook-i5-1035G1-Transparent-X409JB-EK591T/dp/B089TQWJB5/ref=sr_1_14?dchild=1&keywords=laptop&qid=1595401659&sr=8-14 ASUS VivoBook 14 Intel Core i5-1035G1 10th Gen 14-inch FHD Compact and Light Laptop (8GB RAM/512GB NVMe SSD/Windows 10/2GB NVIDIA GeForce MX110 Graphics/Transparent Silver/1.60 kg), X409JB-EK591T ₹ 51,827.00\n",
      "https://www.amazon.in/HP-ds0058TU-15-6-inch-i3-8130U-Windows/dp/B085W6QPYF/ref=sr_1_15?dchild=1&keywords=laptop&qid=1595401659&sr=8-15#customerReviews HP 15q ds0058TU 15.6-inch Laptop (8th Gen Core i3-8130U/4GB/1TB HDD/Windows 10 Home/MS Office 2019), Jet Black ₹ 35,469.00\n",
      "https://www.amazon.in/ASUS-VivoBook-X409FA-EK341T-Integrated-Transparent/dp/B088R77FJ3/ref=sr_1_17?dchild=1&keywords=laptop&qid=1595401659&sr=8-17#customerReviews None None\n",
      "https://www.amazon.in/ASUS-VivoBook-i5-1035G1-Graphics-X409JB-EK592T/dp/B089TP2JM7/ref=sr_1_16?dchild=1&keywords=laptop&qid=1595401659&sr=8-16 ASUS VivoBook 14 Intel Core i5-1035G1 10th Gen 14-inch FHD Compact and Light Laptop (8GB RAM/512GB NVMe SSD/Windows 10/2GB NVIDIA GeForce MX110 Graphics/Slate Grey/1.60 kg), X409JB-EK592T ₹ 51,139.00\n",
      "https://www.amazon.in/Lenovo-Ideapad-Generation-Windows-81VD00D3IN/dp/B088RM62WJ/ref=sr_1_8?dchild=1&keywords=laptop&qid=1595401659&sr=8-8#customerReviews Lenovo Ideapad S145 8th Generation Intel Core i3 15.6 inch FHD Thin and Light Laptop (8GB/1 TB HDD/Windows 10/Office 2019/Grey/1.85Kg), 81VD00D3IN ₹ 36,990.00\n",
      "https://www.amazon.in/ASUS-VivoBook-X409FA-EK341T-Integrated-Transparent/dp/B088R77FJ3/ref=sr_1_17?dchild=1&keywords=laptop&qid=1595401659&sr=8-17 None None\n",
      "https://www.amazon.in/Acer-SF314-41-Dual-core-processor-Integrated/dp/B08BVP6CRW/ref=sr_1_18?dchild=1&keywords=laptop&qid=1595401659&sr=8-18 Acer Swift 3 SF314-41 14-inch Laptop (AMD Athlon 300U Dual-core processor/4GB/1TB HDD/Window 10 Home 64Bit/Integrated Graphics), Silver ₹ 34,999.00\n",
      "https://www.amazon.in/Lenovo-Ideapad-A6-9225-Windows-81N30063IN/dp/B081Z4H8BM/ref=sr_1_3?dchild=1&keywords=laptop&qid=1595401659&sr=8-3#customerReviews Lenovo Ideapad S145 AMD A6-9225 15.6 inch HD Thin and Light Laptop (4GB/1TB/Windows 10/Grey/1.85Kg), 81N30063IN ₹ 23,990.00\n",
      "https://www.amazon.in/LifeDigital-Zed-Note-CX3-Touchscreen/dp/B0854QKMFY/ref=sr_1_20?dchild=1&keywords=laptop&qid=1595401659&sr=8-20 LifeDigital Zed Note CX3 13.3-inch Touchscreen Convertible Laptop (Intel Core i3/8GB/256GB SSD/Windows 10/Intel HD Graphics), Silver ₹ 33,205.00\n",
      "https://www.amazon.in/HP-db1069AU-15-6-inch-Windows-Graphics/dp/B083RD58F6/ref=sr_1_13?dchild=1&keywords=laptop&qid=1595401659&sr=8-13 None None\n",
      "https://www.amazon.in/Acer-One-14-Z2-485-Processor/dp/B08D8H4382/ref=sr_1_5?dchild=1&keywords=laptop&qid=1595401659&sr=8-5 Acer One 14 Z2-485 14-inch Laptop (Intel Pentium Gold Processor) 4415U/4GB/1TB HDD/Windows 10 Home Single Language 64 Bit with Intel HD 610 Graphics 3 Years Warranty Black ₹ 29,000.00\n",
      "https://www.amazon.in/HP-Processor-14-inch-Laptop-cs0029TU/dp/B085W7G5TL/ref=sr_1_10?dchild=1&keywords=laptop&qid=1595401659&sr=8-10#customerReviews None None\n",
      "https://www.amazon.in/HP-Processor-14-inch-Laptop-cs0029TU/dp/B085W7G5TL/ref=sr_1_10?dchild=1&keywords=laptop&qid=1595401659&sr=8-10 None None\n",
      "https://www.amazon.in/HP-db1069AU-15-6-inch-Windows-Graphics/dp/B083RD58F6/ref=sr_1_13?dchild=1&keywords=laptop&qid=1595401659&sr=8-13#customerReviews None None\n",
      "https://www.amazon.in/HP-ds0058TU-15-6-inch-i3-8130U-Windows/dp/B085W6QPYF/ref=sr_1_15?dchild=1&keywords=laptop&qid=1595401659&sr=8-15 HP 15q ds0058TU 15.6-inch Laptop (8th Gen Core i3-8130U/4GB/1TB HDD/Windows 10 Home/MS Office 2019), Jet Black ₹ 35,469.00\n",
      "https://www.amazon.in/ASUS-VivoBook-Integrated-Transparent-M409DA-EK483TS/dp/B08BS4B8FG/ref=sr_1_4?dchild=1&keywords=laptop&qid=1595401659&sr=8-4 ASUS VivoBook 14 AMD Ryzen 3 3250U 14-inch FHD Compact and Light Laptop (4GB RAM/256GB NVMe SSD/Windows 10/MS Office 2019/Integrated Graphics/Transparent Silver/1.60 kg), M409DA-EK483TS ₹ 30,077.00\n",
      "https://www.amazon.in/Callas-Re-usable-Pollution-Filtration-Respirator/dp/B089CPP26Y/ref=sr_1_33?dchild=1&keywords=n95+mask&qid=1595401665&sr=8-33 Callas Premium Quality N95 Re-usable Mask Anti Pollution, High Filtration Capacity 5 Layered; With Respirator ₹ 619.00 - ₹ 1,300.00\n",
      "https://www.amazon.in/Tesseract-Respirator-Breathable-Protective-protection/dp/B08CZT7DYF/ref=sr_1_37?dchild=1&keywords=n95+mask&qid=1595401665&sr=8-37 Tesseract N-95 Face Mask Respirator Anti-Dust Breathable Protective Mask with N95 Filter for Adults men Women 5 layer protection Face Mask (Pack of 50) | TR-White Mask-50 ₹ 1,139.00\n",
      "https://www.amazon.in/Standard-Certified-5-Layered-Protection-Blue-Black-Gray/dp/B088RNK95K/ref=sr_1_4?dchild=1&keywords=n95+mask&qid=1595401665&sr=8-4 Marc Loire- Made in India Standard Size ISO CE Certified Reusable/Washable 5-Layered Outdoor Protection Face Mask with Improved Ear Loops for Men/Women (Pack of 3)(Blue-Black-Gray) ₹ 299.00\n",
      "https://www.amazon.in/Amazon-Brand-Solimo-Anti-Pollution-Mask/dp/B0872Q2CR2/ref=sr_1_48?dchild=1&keywords=n95+mask&qid=1595401665&sr=8-48 Amazon Brand - Solimo N95 Anti-Pollution Mask, Set of 3 ₹ 349.00\n",
      "https://www.amazon.in/Amazon-Brand-Solimo-Non-Washable-Anti-Pollution/dp/B0872QGDXX/ref=sr_1_3?dchild=1&keywords=n95+mask&qid=1595401665&sr=8-3 Amazon Brand - Solimo Non-Washable N95 Anti-Pollution Mask, Set of 5 ₹ 499.00\n",
      "https://www.amazon.in/SanNap-Luxuria-Designer-Pollution-Breathing/dp/B08BB8HTLD/ref=sxin_7?ascsubtag=amzn1.osa.409223a9-aabb-4203-979c-ffc573d2306f.A21TJRUUN4KGV.en_IN&creativeASIN=B08BB8HTLD&cv_ct_cx=n95+mask&cv_ct_id=amzn1.osa.409223a9-aabb-4203-979c-ffc573d2306f.A21TJRUUN4KGV.en_IN&cv_ct_pg=search&cv_ct_wn=osp-single-source-gl-ranking&dchild=1&keywords=n95+mask&linkCode=oas&pd_rd_i=B08BB8HTLD&pd_rd_r=c371385b-eca8-452d-a0b7-d2a4805c406a&pd_rd_w=H9Iy9&pd_rd_wg=j5JDg&pf_rd_p=a405b90d-908a-491d-912a-37b593272670&pf_rd_r=KKP45G92VD5Y8RY02V79&qid=1595401665&sr=1-2-5b72de9d-29e4-4d53-b588-61ea05f598f4&tag=firstpost1610-21#customerReviews None None\n"
     ]
    },
    {
     "name": "stdout",
     "output_type": "stream",
     "text": [
      "https://www.amazon.in/Boldfit-Pollution-protective-manufacturer-Ministry/dp/B08BFYYVYR/ref=sr_1_24?dchild=1&keywords=n95+mask&qid=1595401665&sr=8-24#customerReviews Boldfit N95 mask for face (Pack of 10) Anti Pollution, protective. Third Party Tested by manufacturer at SGS & Ministry of Textiles ₹ 1,090.00\n",
      "https://www.amazon.in/Callas-Re-usable-Pollution-Filtration-Respirator/dp/B089CPP26Y/ref=sr_1_33?dchild=1&keywords=n95+mask&qid=1595401665&sr=8-33#customerReviews Callas Premium Quality N95 Re-usable Mask Anti Pollution, High Filtration Capacity 5 Layered; With Respirator ₹ 619.00 - ₹ 1,300.00\n",
      "https://www.amazon.in/ORILEY-Certified-Layer-Disposable-Respirator/dp/B088QWV35K/ref=sr_1_43?dchild=1&keywords=n95+mask&qid=1595401665&sr=8-43#customerReviews ORILEY CE & ISO Certified 5 Layer Disposable Face Mask with Nose Pin & Respirator for Men & Women (1 PC) ₹ 85.00\n",
      "https://www.amazon.in/Multilayered-Washable-Reusable-Anti-Pollution-protection/dp/B08942WH8V/ref=sr_1_19?dchild=1&keywords=n95+mask&qid=1595401665&sr=8-19#customerReviews None None\n",
      "https://www.amazon.in/ORILEY-K-N95-Approved-Disposable-Respirator/dp/B088QVYX2M/ref=sr_1_44?dchild=1&keywords=n95+mask&qid=1595401665&sr=8-44#customerReviews ORILEY K-N95 FDA Approved 5 Layer Disposable Face Mask with Filter & Nose Pin Respirator for Men & Women (2 Pcs) ₹ 195.00\n",
      "https://www.amazon.in/Respirator-Anti-Dust-Breathable-Protective-protection/dp/B08CCF8PDZ/ref=sr_1_13?dchild=1&keywords=n95+mask&qid=1595401665&sr=8-13#customerReviews A & Y STORE KN-95 Face Mask Respirator Anti-Dust Breathable Protective Mask with N95 Filter for Adults men Women 5 layer protection Face Mask ₹ 49.00 - ₹ 199.00\n",
      "https://www.amazon.in/NOVEX-ALTEK-Face-Mask-Respirator/dp/B089S25S44/ref=sr_1_22?dchild=1&keywords=n95+mask&qid=1595401665&sr=8-22#customerReviews NOVEX ALTEK Face Mask with Respirator (Grey) - Pack of 5 ₹ 240.98\n",
      "https://www.amazon.in/Sabaira-Mask-Protect-N95-Washable/dp/B08B1KDSFG/ref=sr_1_28?dchild=1&keywords=n95+mask&qid=1595401665&sr=8-28#customerReviews Sabaira Mask Protect + N95 Washable - Reusable, Anti Dust/Pollution and Anti Bacterial Shield with 4 Layered Ply Protected Mask for Men and Women (Pack Of 5) - Any Random Color ₹ 499.00\n",
      "https://www.amazon.in/Xtore-Comfortable-Pollution-Breathing-Perticulate/dp/B07LDVP7DV/ref=sxin_7?ascsubtag=amzn1.osa.409223a9-aabb-4203-979c-ffc573d2306f.A21TJRUUN4KGV.en_IN&creativeASIN=B07LDVP7DV&cv_ct_cx=n95+mask&cv_ct_id=amzn1.osa.409223a9-aabb-4203-979c-ffc573d2306f.A21TJRUUN4KGV.en_IN&cv_ct_pg=search&cv_ct_wn=osp-single-source-gl-ranking&dchild=1&keywords=n95+mask&linkCode=oas&pd_rd_i=B07LDVP7DV&pd_rd_r=c371385b-eca8-452d-a0b7-d2a4805c406a&pd_rd_w=H9Iy9&pd_rd_wg=j5JDg&pf_rd_p=a405b90d-908a-491d-912a-37b593272670&pf_rd_r=KKP45G92VD5Y8RY02V79&qid=1595401665&sr=1-3-5b72de9d-29e4-4d53-b588-61ea05f598f4&tag=firstpost1610-21 None None\n",
      "https://www.amazon.in/TBF-Trends-Multicolour-protective-particulate-filtration/dp/B0874MXS2W/ref=sr_1_31?dchild=1&keywords=n95+mask&qid=1595401665&sr=8-31#customerReviews Nechams® by TBF-Trends K-N95 Mask, Multicolour efficient protective K-N95 mask for adults High particulate filtration, for regular use, outdoor, travel, industrial activitie ₹ 75.00\n",
      "https://www.amazon.in/ORILEY-K-N95-Approved-Disposable-Respirator/dp/B088QVZGPZ/ref=sr_1_23?dchild=1&keywords=n95+mask&qid=1595401665&sr=8-23#customerReviews ORILEY K-N95 FDA Approved 5 Layer Disposable Face Mask with Filter & Nose Pin Respirator for Men & Women (1 pc) ₹ 100.00\n",
      "https://www.amazon.in/ClearCut-Reusable-certified-pollution-currently/dp/B08876ZWT3/ref=sr_1_1?dchild=1&keywords=n95+mask&qid=1595401665&sr=8-1#customerReviews ClearCut N95 face mask, reusable washable, pack of 20 ₹ 245.00\n",
      "https://www.amazon.in/Nasher-Miles-AntiBacterial-Respirator-Face/dp/B08BJL73XM/ref=sr_1_47?dchild=1&keywords=n95+mask&qid=1595401665&sr=8-47#customerReviews Nasher Miles Anti Pollution Anti Heat Anti Dust AntiBacterial Respirator Mask SITRA Approved 5 Layer Reusable Outdoor Face Mask PACK OF 3 ₹ 395.00\n",
      "https://www.amazon.in/Cozylife-Women-Adults-Filter-Protection/dp/B089K91MK8/ref=sr_1_8?dchild=1&keywords=n95+mask&qid=1595401665&sr=8-8 Vocado 5 Layer Filter Protection Face Mask Kn95 With Nose Clip for Adults (Pack of 4, White) ₹ 139.00\n",
      "https://www.amazon.in/Dabur-Safe-N95-face-mask/dp/B08894D926/ref=sr_1_9?dchild=1&keywords=n95+mask&qid=1595401665&sr=8-9#customerReviews DABUR Safe N95 face mask ₹ 195.75\n",
      "https://www.amazon.in/Protective-Respirator-Pollution-Respiratory-Protection/dp/B0898N72RN/ref=sr_1_17?dchild=1&keywords=n95+mask&qid=1595401665&sr=8-17#customerReviews Sassoon® Original masks for face n95 Reusable Protective Mask with Respirator, Can be Use as Pollution Mask & Face Mask, Best for Respiratory Protection ₹ 285.00 - ₹ 955.00\n",
      "https://www.amazon.in/Forte-Anti-Fog-Dust-Proof-Adjustable-Approved/dp/B088Q2FGLQ/ref=sr_1_2?dchild=1&keywords=n95+mask&qid=1595401665&sr=8-2#customerReviews La' Forte N95 5-Layer Anti-Fog, Dust-Proof Adjustable NIOSH Approved Reusable Mask (3 Pieces) ₹ 290.00\n",
      "https://www.amazon.in/Glammore-Reusable-Pollution-Respirator-Valve/dp/B0892RHGXD/ref=sxin_7?ascsubtag=amzn1.osa.409223a9-aabb-4203-979c-ffc573d2306f.A21TJRUUN4KGV.en_IN&creativeASIN=B0892RHGXD&cv_ct_cx=n95+mask&cv_ct_id=amzn1.osa.409223a9-aabb-4203-979c-ffc573d2306f.A21TJRUUN4KGV.en_IN&cv_ct_pg=search&cv_ct_wn=osp-single-source-gl-ranking&dchild=1&keywords=n95+mask&linkCode=oas&pd_rd_i=B0892RHGXD&pd_rd_r=c371385b-eca8-452d-a0b7-d2a4805c406a&pd_rd_w=H9Iy9&pd_rd_wg=j5JDg&pf_rd_p=a405b90d-908a-491d-912a-37b593272670&pf_rd_r=KKP45G92VD5Y8RY02V79&qid=1595401665&sr=1-4-5b72de9d-29e4-4d53-b588-61ea05f598f4&tag=firstpost1610-21 Glammore N95 Non Woven Reusable Washable, Anti Pollution Dust Face Mask with Respirator Valve- White, Free Size, Pack of 2 ₹ 359.00\n",
      "https://www.amazon.in/Avekin-Respirator-filter-Washable-Reusable/dp/B08CNJQJ1Z/ref=sr_1_18?dchild=1&keywords=n95+mask&qid=1595401665&sr=8-18 Avekin K-N95 Masks With Respirator With Air filter Washable Mask Pack Of 5 (Reusable) (Pink) ₹ 385.00\n",
      "https://www.amazon.in/CAREVIEWTM-CV1221H-Protective-Layered-Filtration/dp/B08951PPT1/ref=sr_1_32?dchild=1&keywords=n95+mask&qid=1595401665&sr=8-32 CAREVIEW™ CV1221H N95 FFP2 Protective Face Mask, 6 Layered Filtration with Head Band Strap- (Pack of 3) ₹ 360.00\n",
      "https://www.amazon.in/DALUCI-Reusable-Pollution-Layer-Women/dp/B0893WWSG5/ref=sr_1_11?dchild=1&keywords=n95+mask&qid=1595401665&sr=8-11 DALUCI N95 Reusable Mask Anti Air Pollution Face Mask With 5 Layer For Men Women (White, 2 Pack) ₹ 199.00\n",
      "https://www.amazon.in/Thermocare-Pollution-mask-women-pack/dp/B085KYH595/ref=sr_1_36?dchild=1&keywords=n95+mask&qid=1595401665&sr=8-36 Thermocare Pollution mask for men and women pack of 2 ₹ 193.00\n",
      "https://www.amazon.in/Boldfit-Pollution-protective-manufacturer-Ministry/dp/B08BFYYVYR/ref=sr_1_24?dchild=1&keywords=n95+mask&qid=1595401665&sr=8-24 Boldfit N95 mask for face (Pack of 10) Anti Pollution, protective. Third Party Tested by manufacturer at SGS & Ministry of Textiles ₹ 1,090.00\n",
      "https://www.amazon.in/Xtore-Comfortable-Pollution-Breathing-Perticulate/dp/B07LDVP7DV/ref=sr_1_5?dchild=1&keywords=n95+mask&qid=1595401665&sr=8-5#customerReviews None None\n",
      "https://www.amazon.in/Multilayered-Washable-Reusable-Anti-Pollution-protection/dp/B08942WH8V/ref=sr_1_19?dchild=1&keywords=n95+mask&qid=1595401665&sr=8-19 None None\n",
      "https://www.amazon.in/london-Double-Filter-Sanitizer-Prevention/dp/B0892MTSDB/ref=sr_1_15?dchild=1&keywords=n95+mask&qid=1595401665&sr=8-15 london Double Filter Mask, Hand Sanitizer, Wipes, Hand Gloves, 3 Ply Mask Prevention Kit ₹ 599.00\n",
      "https://www.amazon.in/Amazon-Brand-Solimo-Non-Washable-Anti-Pollution/dp/B0872QGDXX/ref=sr_1_3?dchild=1&keywords=n95+mask&qid=1595401665&sr=8-3#customerReviews Amazon Brand - Solimo Non-Washable N95 Anti-Pollution Mask, Set of 5 ₹ 499.00\n",
      "https://www.amazon.in/Mrideena-Anti-Pollution-Mask-Valve/dp/B089WLG9H2/ref=sxin_7?ascsubtag=amzn1.osa.409223a9-aabb-4203-979c-ffc573d2306f.A21TJRUUN4KGV.en_IN&creativeASIN=B089WLG9H2&cv_ct_cx=n95+mask&cv_ct_id=amzn1.osa.409223a9-aabb-4203-979c-ffc573d2306f.A21TJRUUN4KGV.en_IN&cv_ct_pg=search&cv_ct_wn=osp-single-source-gl-ranking&dchild=1&keywords=n95+mask&linkCode=oas&pd_rd_i=B089WLG9H2&pd_rd_r=c371385b-eca8-452d-a0b7-d2a4805c406a&pd_rd_w=H9Iy9&pd_rd_wg=j5JDg&pf_rd_p=a405b90d-908a-491d-912a-37b593272670&pf_rd_r=KKP45G92VD5Y8RY02V79&qid=1595401665&sr=1-1-5b72de9d-29e4-4d53-b588-61ea05f598f4&tag=firstpost1610-21#customerReviews None None\n"
     ]
    },
    {
     "name": "stdout",
     "output_type": "stream",
     "text": [
      "https://www.amazon.in/NOVEX-ALTEK-Face-Mask-Respirator/dp/B089S25S44/ref=sr_1_22?dchild=1&keywords=n95+mask&qid=1595401665&sr=8-22 NOVEX ALTEK Face Mask with Respirator (Grey) - Pack of 5 ₹ 240.98\n",
      "https://www.amazon.in/CAREVIEWTM-CV1221H-Protective-Layered-Filtration/dp/B08951PPT1/ref=sr_1_32?dchild=1&keywords=n95+mask&qid=1595401665&sr=8-32#customerReviews CAREVIEW™ CV1221H N95 FFP2 Protective Face Mask, 6 Layered Filtration with Head Band Strap- (Pack of 3) ₹ 360.00\n",
      "https://www.amazon.in/Filtration-Capacity-Reusable-Particulate-Certified/dp/B08BJ245SV/ref=sr_1_21?dchild=1&keywords=n95+mask&qid=1595401665&sr=8-21 Trendy N95 Face Mask | 5 ply High Filtration Capacity | Five Layer Reusable Particulate Mask and Washable | FDA,CE, GMP, ISO Approved and Certified (Pack of 10) ₹ 499.00\n",
      "https://www.amazon.in/Xtore-Washable-Pollution-Breathing-Replaceable/dp/B07MCPKLZP/ref=sr_1_30?dchild=1&keywords=n95+mask&qid=1595401665&sr=8-30 None None\n",
      "https://www.amazon.in/Standard-Certified-5-Layered-Protection-Blue-Black-Gray/dp/B088RNK95K/ref=sr_1_4?dchild=1&keywords=n95+mask&qid=1595401665&sr=8-4#customerReviews Marc Loire- Made in India Standard Size ISO CE Certified Reusable/Washable 5-Layered Outdoor Protection Face Mask with Improved Ear Loops for Men/Women (Pack of 3)(Blue-Black-Gray) ₹ 299.00\n",
      "https://www.amazon.in/Dabur-Safe-N95-face-mask/dp/B08894D926/ref=sr_1_9?dchild=1&keywords=n95+mask&qid=1595401665&sr=8-9 DABUR Safe N95 face mask ₹ 195.75\n",
      "https://www.amazon.in/Mediweave-KN95-Face-Pieces-packets/dp/B087N2WPLT/ref=sr_1_7?dchild=1&keywords=n95+mask&qid=1595401665&sr=8-7 Mediweave KN95 Face Mask 5 Pieces (2 +2 +1 sub packets) ₹ 469.00\n",
      "https://www.amazon.in/Filtration-Capacity-Reusable-Particulate-Certified/dp/B08BJ245SV/ref=sr_1_21?dchild=1&keywords=n95+mask&qid=1595401665&sr=8-21#customerReviews Trendy N95 Face Mask | 5 ply High Filtration Capacity | Five Layer Reusable Particulate Mask and Washable | FDA,CE, GMP, ISO Approved and Certified (Pack of 10) ₹ 499.00\n",
      "https://www.amazon.in/Venus-V-4200N95-Respirator-Butterfly-Temperature/dp/B085TSNCZQ/ref=sr_1_29?dchild=1&keywords=n95+mask&qid=1595401665&sr=8-29#customerReviews None None\n",
      "https://www.amazon.in/OxiClear-OxiMask-Pollution-Mask/dp/B01N952VHF/ref=sr_1_14?dchild=1&keywords=n95+mask&qid=1595401665&sr=8-14#customerReviews OxiClear N99 Pollution Mask With 2 Activated Carbon Filters, Safe Release Air Valve, Reusable D.R.D.O Certified (BLACK) (Pack of 1) ₹ 499.00\n",
      "https://www.amazon.in/Protective-Respirator-Pollution-Respiratory-Protection/dp/B0898N72RN/ref=sr_1_17?dchild=1&keywords=n95+mask&qid=1595401665&sr=8-17 Sassoon® Original masks for face n95 Reusable Protective Mask with Respirator, Can be Use as Pollution Mask & Face Mask, Best for Respiratory Protection ₹ 285.00 - ₹ 955.00\n",
      "https://www.amazon.in/Mush-layered-Certified-Reusable-India/dp/B089DPKVLS/ref=sr_1_26?dchild=1&keywords=n95+mask&qid=1595401665&sr=8-26 Mush N95 6 layered CE ISO NABL Certified Reusable Face Mask with Nose Pin (Pack of 4, Made In India) ₹ 279.00\n",
      "https://www.amazon.in/Reusable-washable-certified-droplets-pollution/dp/B08C3Z7D69/ref=sr_1_10?dchild=1&keywords=n95+mask&qid=1595401665&sr=8-10#customerReviews Swadesi Stuff N95 Face Mask, Reusable, washable & CE certified to protect Mouth droplets, Dust and pollution, Pack of 5 mask ₹ 499.00\n",
      "https://www.amazon.in/GrinHealth-Anti-Pollution-Mask-P-Grey/dp/B072HL2GH2/ref=sr_1_42?dchild=1&keywords=n95+mask&qid=1595401665&sr=8-42 Grin Health N95 Pollution Mask with 5 Layer Protective Filters Washable Reusable (Pack of 2, White) ₹ 798.00\n",
      "https://www.amazon.in/Avekin-Respirator-filter-Washable-Reusable/dp/B08CNJQJ1Z/ref=sr_1_18?dchild=1&keywords=n95+mask&qid=1595401665&sr=8-18#customerReviews Avekin K-N95 Masks With Respirator With Air filter Washable Mask Pack Of 5 (Reusable) (Pink) ₹ 385.00\n",
      "https://www.amazon.in/Mush-layered-Certified-Reusable-India/dp/B089DPKVLS/ref=sr_1_26?dchild=1&keywords=n95+mask&qid=1595401665&sr=8-26#customerReviews Mush N95 6 layered CE ISO NABL Certified Reusable Face Mask with Nose Pin (Pack of 4, Made In India) ₹ 279.00\n",
      "https://www.amazon.in/Kurtzy-Washable-Anti-Pollution-Anti-Dust-Respiratory/dp/B088D8M4B1/ref=sr_1_45?dchild=1&keywords=n95+mask&qid=1595401665&sr=8-45 Kurtzy Washable Reusable 3 Layers CN95 Coatex Anti-Pollution Anti-Dust Face Mask with Respiratory Valve (Pack of 2) Black - Universal Size ₹ 338.00\n",
      "https://www.amazon.in/GrinHealth-Anti-Pollution-Mask-P-Grey/dp/B072HL2GH2/ref=sr_1_42?dchild=1&keywords=n95+mask&qid=1595401665&sr=8-42#customerReviews Grin Health N95 Pollution Mask with 5 Layer Protective Filters Washable Reusable (Pack of 2, White) ₹ 798.00\n",
      "https://www.amazon.in/Xtore-Comfortable-Pollution-Breathing-Perticulate/dp/B07LDVP7DV/ref=sxin_7?ascsubtag=amzn1.osa.409223a9-aabb-4203-979c-ffc573d2306f.A21TJRUUN4KGV.en_IN&creativeASIN=B07LDVP7DV&cv_ct_cx=n95+mask&cv_ct_id=amzn1.osa.409223a9-aabb-4203-979c-ffc573d2306f.A21TJRUUN4KGV.en_IN&cv_ct_pg=search&cv_ct_wn=osp-single-source-gl-ranking&dchild=1&keywords=n95+mask&linkCode=oas&pd_rd_i=B07LDVP7DV&pd_rd_r=c371385b-eca8-452d-a0b7-d2a4805c406a&pd_rd_w=H9Iy9&pd_rd_wg=j5JDg&pf_rd_p=a405b90d-908a-491d-912a-37b593272670&pf_rd_r=KKP45G92VD5Y8RY02V79&qid=1595401665&sr=1-3-5b72de9d-29e4-4d53-b588-61ea05f598f4&tag=firstpost1610-21#customerReviews None None\n",
      "https://www.amazon.in/Scott-International-Unisex-Reusable-Black/dp/B088TRHWYP/ref=sr_1_20?dchild=1&keywords=n95+mask&qid=1595401665&sr=8-20#customerReviews Scott International Unisex Reusable Face Mask ₹ 299.00\n",
      "https://www.amazon.in/ORILEY-K-N95-Approved-Disposable-Respirator/dp/B088QVYX2M/ref=sr_1_44?dchild=1&keywords=n95+mask&qid=1595401665&sr=8-44 ORILEY K-N95 FDA Approved 5 Layer Disposable Face Mask with Filter & Nose Pin Respirator for Men & Women (2 Pcs) ₹ 195.00\n",
      "https://www.amazon.in/Forte-Anti-Fog-Dust-Proof-Adjustable-Approved/dp/B088Q2FGLQ/ref=sr_1_2?dchild=1&keywords=n95+mask&qid=1595401665&sr=8-2 La' Forte N95 5-Layer Anti-Fog, Dust-Proof Adjustable NIOSH Approved Reusable Mask (3 Pieces) ₹ 290.00\n",
      "https://www.amazon.in/Mrideena-Anti-Pollution-Mask-Valve/dp/B089WLG9H2/ref=sxin_7?ascsubtag=amzn1.osa.409223a9-aabb-4203-979c-ffc573d2306f.A21TJRUUN4KGV.en_IN&creativeASIN=B089WLG9H2&cv_ct_cx=n95+mask&cv_ct_id=amzn1.osa.409223a9-aabb-4203-979c-ffc573d2306f.A21TJRUUN4KGV.en_IN&cv_ct_pg=search&cv_ct_wn=osp-single-source-gl-ranking&dchild=1&keywords=n95+mask&linkCode=oas&pd_rd_i=B089WLG9H2&pd_rd_r=c371385b-eca8-452d-a0b7-d2a4805c406a&pd_rd_w=H9Iy9&pd_rd_wg=j5JDg&pf_rd_p=a405b90d-908a-491d-912a-37b593272670&pf_rd_r=KKP45G92VD5Y8RY02V79&qid=1595401665&sr=1-1-5b72de9d-29e4-4d53-b588-61ea05f598f4&tag=firstpost1610-21 None None\n",
      "https://www.amazon.in/ORILEY-K-N95-Approved-Disposable-Women/dp/B087PVWCT5/ref=sr_1_39?dchild=1&keywords=n95+mask&qid=1595401665&sr=8-39 ORILEY K-N95 FDA Approved Disposable Face Mask with Nose Pin for Men & Women (2 Pcs) ₹ 169.00\n",
      "https://www.amazon.in/Mediweave-KN95-Face-Pieces-packets/dp/B087N2WPLT/ref=sr_1_7?dchild=1&keywords=n95+mask&qid=1595401665&sr=8-7#customerReviews Mediweave KN95 Face Mask 5 Pieces (2 +2 +1 sub packets) ₹ 469.00\n",
      "https://www.amazon.in/Generic-pink-multicolour-disposable-respirator/dp/B07113Z8R1/ref=sr_1_16?dchild=1&keywords=n95+mask&qid=1595401665&sr=8-16#customerReviews Generic pink : 5PCS N95 multicolour vertical folding nonwoven valved dust mask PM2.5 disposable respirator mask with valve ₹ 182.00\n",
      "https://www.amazon.in/GlamFlox-Washable-Reusable-Anti-Pollution-Anti-Dust/dp/B089W33QXS/ref=sr_1_25?dchild=1&keywords=n95+mask&qid=1595401665&sr=8-25 GlamFlox Washable Reusable 5 Layers N95 Plus Coatex Anti-Pollution Anti-Dust Face Mask with Filter Valve (Pack of 1) Grey - Universal Size ₹ 77.00\n",
      "https://www.amazon.in/Urbangabru-Pollution-protective-filters-system/dp/B0851H66G4/ref=sr_1_38?dchild=1&keywords=n95+mask&qid=1595401665&sr=8-38 Urbangabru N99 Anti Pollution Mask with 4 layer protective filters PM 2.5 system (valve color may vary) ₹ 299.00\n",
      "https://www.amazon.in/Mediweave-Reusable-Non-Woven-Multicolor-Representative/dp/B087N7WWGD/ref=sr_1_40?dchild=1&keywords=n95+mask&qid=1595401665&sr=8-40#customerReviews None None\n",
      "https://www.amazon.in/Nasher-Miles-AntiBacterial-Respirator-Face/dp/B08BJL73XM/ref=sr_1_47?dchild=1&keywords=n95+mask&qid=1595401665&sr=8-47 Nasher Miles Anti Pollution Anti Heat Anti Dust AntiBacterial Respirator Mask SITRA Approved 5 Layer Reusable Outdoor Face Mask PACK OF 3 ₹ 395.00\n"
     ]
    },
    {
     "name": "stdout",
     "output_type": "stream",
     "text": [
      "https://www.amazon.in/Reusable-washable-certified-droplets-pollution/dp/B08C67MQG5/ref=sr_1_6?dchild=1&keywords=n95+mask&qid=1595401665&sr=8-6 Swadesi Stuff N95 Filter Multi color Filter Face Mask, Reusable, washable & CE certified to protect Mouth droplets, Dust and pollution, Pack of 5 mask ₹ 499.00\n",
      "https://www.amazon.in/DALUCI-Reusable-Pollution-Layer-Women/dp/B0893WWSG5/ref=sr_1_11?dchild=1&keywords=n95+mask&qid=1595401665&sr=8-11#customerReviews DALUCI N95 Reusable Mask Anti Air Pollution Face Mask With 5 Layer For Men Women (White, 2 Pack) ₹ 199.00\n",
      "https://www.amazon.in/Xtore-Comfortable-Pollution-Breathing-Perticulate/dp/B07LDVP7DV/ref=sr_1_5?dchild=1&keywords=n95+mask&qid=1595401665&sr=8-5 None None\n",
      "https://www.amazon.in/Kurtzy-Washable-Anti-Pollution-Anti-Dust-Respiratory/dp/B088D8M4B1/ref=sr_1_45?dchild=1&keywords=n95+mask&qid=1595401665&sr=8-45#customerReviews Kurtzy Washable Reusable 3 Layers CN95 Coatex Anti-Pollution Anti-Dust Face Mask with Respiratory Valve (Pack of 2) Black - Universal Size ₹ 338.00\n",
      "https://www.amazon.in/Glammore-Reusable-Pollution-Respirator-Valve/dp/B0892RHGXD/ref=sxin_7?ascsubtag=amzn1.osa.409223a9-aabb-4203-979c-ffc573d2306f.A21TJRUUN4KGV.en_IN&creativeASIN=B0892RHGXD&cv_ct_cx=n95+mask&cv_ct_id=amzn1.osa.409223a9-aabb-4203-979c-ffc573d2306f.A21TJRUUN4KGV.en_IN&cv_ct_pg=search&cv_ct_wn=osp-single-source-gl-ranking&dchild=1&keywords=n95+mask&linkCode=oas&pd_rd_i=B0892RHGXD&pd_rd_r=c371385b-eca8-452d-a0b7-d2a4805c406a&pd_rd_w=H9Iy9&pd_rd_wg=j5JDg&pf_rd_p=a405b90d-908a-491d-912a-37b593272670&pf_rd_r=KKP45G92VD5Y8RY02V79&qid=1595401665&sr=1-4-5b72de9d-29e4-4d53-b588-61ea05f598f4&tag=firstpost1610-21#customerReviews Glammore N95 Non Woven Reusable Washable, Anti Pollution Dust Face Mask with Respirator Valve- White, Free Size, Pack of 2 ₹ 359.00\n",
      "https://www.amazon.in/Scott-International-Unisex-Reusable-Black/dp/B088TRHWYP/ref=sr_1_20?dchild=1&keywords=n95+mask&qid=1595401665&sr=8-20 Scott International Unisex Reusable Face Mask ₹ 299.00\n",
      "https://www.amazon.in/Urbangabru-Pollution-protective-filters-material/dp/B07XVBT3WF/ref=sr_1_41?dchild=1&keywords=n95+mask&qid=1595401665&sr=8-41#customerReviews Urbangabru N95 Anti Pollution Mask with 6 layer protective filters PM 2.5 system hypa shield (Product material may vary) ₹ 299.00\n",
      "https://www.amazon.in/ORILEY-K-N95-Approved-Disposable-Women/dp/B087PVWCT5/ref=sr_1_39?dchild=1&keywords=n95+mask&qid=1595401665&sr=8-39#customerReviews ORILEY K-N95 FDA Approved Disposable Face Mask with Nose Pin for Men & Women (2 Pcs) ₹ 169.00\n",
      "https://www.amazon.in/Gear-Safeguard-certified-Bacteria-Filtration/dp/B08C7QCGJB/ref=sr_1_27?dchild=1&keywords=n95+mask&qid=1595401665&sr=8-27#customerReviews F Gear Luxur F95 Mask Diamond Black Pack of 3 Safeguard 7 layer ISO CE SITRA lab certified >95% Bacteria Filtration ₹ 499.00\n",
      "https://www.amazon.in/Mediweave-Reusable-Non-Woven-Multicolor-Representative/dp/B087N7WWGD/ref=sr_1_40?dchild=1&keywords=n95+mask&qid=1595401665&sr=8-40 None None\n",
      "https://www.amazon.in/Cozylife-Women-Adults-Filter-Protection/dp/B089K91MK8/ref=sr_1_8?dchild=1&keywords=n95+mask&qid=1595401665&sr=8-8#customerReviews Vocado 5 Layer Filter Protection Face Mask Kn95 With Nose Clip for Adults (Pack of 4, White) ₹ 139.00\n",
      "https://www.amazon.in/Venus-Marked-Filter-Valve-Yellow/dp/B0876JJYS7/ref=sr_1_12?dchild=1&keywords=n95+mask&qid=1595401665&sr=8-12#customerReviews Venus V410 N95 Mask, ISI Marked with Filter Valve (Yellow) ₹ 289.00\n",
      "https://www.amazon.in/ClearCut-Reusable-certified-pollution-currently/dp/B08876ZWT3/ref=sr_1_1?dchild=1&keywords=n95+mask&qid=1595401665&sr=8-1 ClearCut N95 face mask, reusable washable, pack of 20 ₹ 245.00\n",
      "https://www.amazon.in/Xtore-Washable-Pollution-Breathing-Replaceable/dp/B07MCPKLZP/ref=sr_1_30?dchild=1&keywords=n95+mask&qid=1595401665&sr=8-30#customerReviews None None\n",
      "https://www.amazon.in/Urbangabru-Pollution-protective-filters-material/dp/B07XVBT3WF/ref=sr_1_41?dchild=1&keywords=n95+mask&qid=1595401665&sr=8-41 Urbangabru N95 Anti Pollution Mask with 6 layer protective filters PM 2.5 system hypa shield (Product material may vary) ₹ 299.00\n",
      "https://www.amazon.in/Amazon-Brand-Solimo-Anti-Pollution-Mask/dp/B0872Q2CR2/ref=sr_1_48?dchild=1&keywords=n95+mask&qid=1595401665&sr=8-48#customerReviews Amazon Brand - Solimo N95 Anti-Pollution Mask, Set of 3 ₹ 349.00\n",
      "https://www.amazon.in/Multilayered-Washable-Reusable-Anti-Pollution-protection/dp/B08941NKXK/ref=sr_1_34?dchild=1&keywords=n95+mask&qid=1595401665&sr=8-34 None None\n",
      "https://www.amazon.in/ORILEY-K-N95-Approved-Disposable-Respirator/dp/B088QVZGPZ/ref=sr_1_23?dchild=1&keywords=n95+mask&qid=1595401665&sr=8-23 ORILEY K-N95 FDA Approved 5 Layer Disposable Face Mask with Filter & Nose Pin Respirator for Men & Women (1 pc) ₹ 100.00\n",
      "https://www.amazon.in/Bodyguard-Anti-Pollution-Face-Mask/dp/B075XN3KML/ref=sr_1_46?dchild=1&keywords=n95+mask&qid=1595401665&sr=8-46 BodyGuard Reusable Anti Pollution Face Mask with Activated Carbon, N95 + PM2.5 for kids - Small (Black) ₹ 199.00\n",
      "https://www.amazon.in/Venus-Marked-Filter-Valve-Yellow/dp/B0876JJYS7/ref=sr_1_12?dchild=1&keywords=n95+mask&qid=1595401665&sr=8-12 Venus V410 N95 Mask, ISI Marked with Filter Valve (Yellow) ₹ 289.00\n",
      "https://www.amazon.in/Generic-pink-multicolour-disposable-respirator/dp/B07113Z8R1/ref=sr_1_16?dchild=1&keywords=n95+mask&qid=1595401665&sr=8-16 Generic pink : 5PCS N95 multicolour vertical folding nonwoven valved dust mask PM2.5 disposable respirator mask with valve ₹ 182.00\n",
      "https://www.amazon.in/Respirator-Anti-Dust-Breathable-Protective-protection/dp/B08CCF8PDZ/ref=sr_1_13?dchild=1&keywords=n95+mask&qid=1595401665&sr=8-13 A & Y STORE KN-95 Face Mask Respirator Anti-Dust Breathable Protective Mask with N95 Filter for Adults men Women 5 layer protection Face Mask ₹ 49.00 - ₹ 199.00\n",
      "https://www.amazon.in/SanNap-Luxuria-Designer-Pollution-Breathing/dp/B08BB8HTLD/ref=sxin_7?ascsubtag=amzn1.osa.409223a9-aabb-4203-979c-ffc573d2306f.A21TJRUUN4KGV.en_IN&creativeASIN=B08BB8HTLD&cv_ct_cx=n95+mask&cv_ct_id=amzn1.osa.409223a9-aabb-4203-979c-ffc573d2306f.A21TJRUUN4KGV.en_IN&cv_ct_pg=search&cv_ct_wn=osp-single-source-gl-ranking&dchild=1&keywords=n95+mask&linkCode=oas&pd_rd_i=B08BB8HTLD&pd_rd_r=c371385b-eca8-452d-a0b7-d2a4805c406a&pd_rd_w=H9Iy9&pd_rd_wg=j5JDg&pf_rd_p=a405b90d-908a-491d-912a-37b593272670&pf_rd_r=KKP45G92VD5Y8RY02V79&qid=1595401665&sr=1-2-5b72de9d-29e4-4d53-b588-61ea05f598f4&tag=firstpost1610-21 None None\n",
      "https://www.amazon.in/OxiClear-OxiMask-Pollution-Mask/dp/B01N952VHF/ref=sr_1_14?dchild=1&keywords=n95+mask&qid=1595401665&sr=8-14 OxiClear N99 Pollution Mask With 2 Activated Carbon Filters, Safe Release Air Valve, Reusable D.R.D.O Certified (BLACK) (Pack of 1) ₹ 499.00\n",
      "https://www.amazon.in/Thermocare-Pollution-mask-women-pack/dp/B085KYH595/ref=sr_1_36?dchild=1&keywords=n95+mask&qid=1595401665&sr=8-36#customerReviews Thermocare Pollution mask for men and women pack of 2 ₹ 193.00\n",
      "https://www.amazon.in/GlamFlox-Washable-Reusable-Anti-Pollution-Anti-Dust/dp/B089W33QXS/ref=sr_1_25?dchild=1&keywords=n95+mask&qid=1595401665&sr=8-25#customerReviews GlamFlox Washable Reusable 5 Layers N95 Plus Coatex Anti-Pollution Anti-Dust Face Mask with Filter Valve (Pack of 1) Grey - Universal Size ₹ 77.00\n",
      "https://www.amazon.in/Sabaira-Mask-Protect-N95-Washable/dp/B08B1KDSFG/ref=sr_1_28?dchild=1&keywords=n95+mask&qid=1595401665&sr=8-28 Sabaira Mask Protect + N95 Washable - Reusable, Anti Dust/Pollution and Anti Bacterial Shield with 4 Layered Ply Protected Mask for Men and Women (Pack Of 5) - Any Random Color ₹ 499.00\n",
      "https://www.amazon.in/TBF-Trends-Multicolour-protective-particulate-filtration/dp/B0874MXS2W/ref=sr_1_31?dchild=1&keywords=n95+mask&qid=1595401665&sr=8-31 Nechams® by TBF-Trends K-N95 Mask, Multicolour efficient protective K-N95 mask for adults High particulate filtration, for regular use, outdoor, travel, industrial activitie ₹ 75.00\n",
      "https://www.amazon.in/Reusable-washable-certified-droplets-pollution/dp/B08C67MQG5/ref=sr_1_6?dchild=1&keywords=n95+mask&qid=1595401665&sr=8-6#customerReviews Swadesi Stuff N95 Filter Multi color Filter Face Mask, Reusable, washable & CE certified to protect Mouth droplets, Dust and pollution, Pack of 5 mask ₹ 499.00\n"
     ]
    },
    {
     "name": "stdout",
     "output_type": "stream",
     "text": [
      "https://www.amazon.in/Bodyguard-Anti-Pollution-Face-Mask/dp/B075XN3KML/ref=sr_1_46?dchild=1&keywords=n95+mask&qid=1595401665&sr=8-46#customerReviews BodyGuard Reusable Anti Pollution Face Mask with Activated Carbon, N95 + PM2.5 for kids - Small (Black) ₹ 199.00\n",
      "https://www.amazon.in/Urbangabru-Pollution-protective-filters-system/dp/B0851H66G4/ref=sr_1_38?dchild=1&keywords=n95+mask&qid=1595401665&sr=8-38#customerReviews Urbangabru N99 Anti Pollution Mask with 4 layer protective filters PM 2.5 system (valve color may vary) ₹ 299.00\n",
      "https://www.amazon.in/Reusable-washable-certified-droplets-pollution/dp/B08C3Z7D69/ref=sr_1_10?dchild=1&keywords=n95+mask&qid=1595401665&sr=8-10 Swadesi Stuff N95 Face Mask, Reusable, washable & CE certified to protect Mouth droplets, Dust and pollution, Pack of 5 mask ₹ 499.00\n",
      "https://www.amazon.in/Venus-V-4200N95-Respirator-Butterfly-Temperature/dp/B085TSNCZQ/ref=sr_1_29?dchild=1&keywords=n95+mask&qid=1595401665&sr=8-29 None None\n",
      "https://www.amazon.in/Gear-Safeguard-certified-Bacteria-Filtration/dp/B08C7QCGJB/ref=sr_1_27?dchild=1&keywords=n95+mask&qid=1595401665&sr=8-27 F Gear Luxur F95 Mask Diamond Black Pack of 3 Safeguard 7 layer ISO CE SITRA lab certified >95% Bacteria Filtration ₹ 499.00\n",
      "https://www.amazon.in/ORILEY-Certified-Layer-Disposable-Respirator/dp/B088QWV35K/ref=sr_1_43?dchild=1&keywords=n95+mask&qid=1595401665&sr=8-43 ORILEY CE & ISO Certified 5 Layer Disposable Face Mask with Nose Pin & Respirator for Men & Women (1 PC) ₹ 85.00\n",
      "https://www.amazon.in/Classmate-Long-Book-Unruled-Pages/dp/B0883RF1KN/ref=sr_1_46?dchild=1&keywords=notebook&qid=1595401671&sr=8-46 Classmate Long Book - Unruled, 160 Pages, 330 mm x 210 mm - Pack Of 2 ₹ 124.00\n",
      "https://www.amazon.in/Factor-Notes-Journal-Diary-Notebook/dp/B07SCXQY7W/ref=sr_1_7?dchild=1&keywords=notebook&qid=1595401671&sr=8-7 Factor Notes Ruled 90 GSM Natural Shade Paper Notebook/ 112 Pages / B6-120mm X 180mm Journal Diary/ B6R- Sunshine Mixed with a Hurricane ₹ 119.00\n",
      "https://www.amazon.in/Luxor-Subject-Premium-Exercise-Notebook/dp/B07Q3QV7X5/ref=sr_1_25?dchild=1&keywords=notebook&qid=1595401671&sr=8-25#customerReviews Luxor 6 Subject Spiral Premium Exercise Notebook, Single Ruled - (21cm x 29.7cm), 300 Pages ₹ 145.00\n",
      "https://www.amazon.in/Luxor-Subject-Premium-Exercise-Notebook/dp/B07Q6XTPPZ/ref=sr_1_43?dchild=1&keywords=notebook&qid=1595401671&sr=8-43 Luxor 1 Subject Spiral Premium Exercise Notebook, Single Ruled - (21cm x 29.7cm), 160 Pages ₹ 99.00\n",
      "https://www.amazon.in/Classmate-Long-Book-Unruled-Pages/dp/B0883RF1KN/ref=sr_1_46?dchild=1&keywords=notebook&qid=1595401671&sr=8-46#customerReviews Classmate Long Book - Unruled, 160 Pages, 330 mm x 210 mm - Pack Of 2 ₹ 124.00\n",
      "https://www.amazon.in/Factor-Notes-2-1-Notebook/dp/B081B14SKZ/ref=sr_1_20?dchild=1&keywords=notebook&qid=1595401671&sr=8-20 Factor Notes 2-in-1 pack Dotted Bullet Grid 90 GSM Natural Shade Paper Notebook/ 320 Pages/ A5-140mm x 210 mm/ A5D- Kraft 2-in-1 ₹ 265.00\n",
      "https://www.amazon.in/Doodle-Ethnic-Motif-Diary-Notebook/dp/B00PGZQMNI/ref=sr_1_51?dchild=1&keywords=notebook&qid=1595401671&sr=8-51#customerReviews Doodle Ethnic Motif Hard Bound Undated A5 Diary Notebook (5.5 X 8.5 Inches, 80 GSM, 200 Ruled Perforated Pages) Diary for Writing, Gift for Friend, Perosnal Diary ₹ 257.00\n",
      "https://www.amazon.in/Luxor-Subject-Premium-Exercise-Notebook/dp/B07QHNDF4C/ref=sr_1_24?dchild=1&keywords=notebook&qid=1595401671&sr=8-24#customerReviews Luxor 1 Subject Spine Taped Premium Exercise Notebook, Single Ruled - (21cm x 29.7cm), 180 Pages ₹ 95.00\n",
      "https://www.amazon.in/Classmate-Pulse-Spiral-Notebook-Unruled/dp/B00P93X0VO/ref=sr_1_5?dchild=1&keywords=notebook&qid=1595401671&sr=8-5 Classmate Pulse 6 Subject Notebook - Unruled, 300 Pages, Spiral Binding, 240mm*180mm ₹ 120.00\n",
      "https://www.amazon.in/Factor-Notes-Dotted-Journal-Notebook/dp/B07L681Z83/ref=sr_1_9?dchild=1&keywords=notebook&qid=1595401671&sr=8-9#customerReviews Factor Notes 3-in-1 pack Dotted Bullet Grid 90 GSM Natural Shade Paper Notebook/ 240 Pages/ B6-120mm X 180mm Journal Diary/ B6D- Kraft 3-in-1 ₹ 199.00\n",
      "https://www.amazon.in/Luxor-Subject-Premium-Exercise-Notebook/dp/B07QD9353Z/ref=sr_1_30?dchild=1&keywords=notebook&qid=1595401671&sr=8-30#customerReviews Luxor 1 Subject Spine Taped Premium Exercise Notebook, Single Ruled - (18.5cm x 27.2cm), 180 Pages ₹ 88.00\n",
      "https://www.amazon.in/Doodle-Unicorn-Notebook-80GSM-Multicolour/dp/B07MQB4ZFT/ref=sr_1_48?dchild=1&keywords=notebook&qid=1595401671&sr=8-48#customerReviews Doodle Unicorn A5 Size Notebook, 80GSM (Multicolour) ₹ 312.00\n",
      "https://www.amazon.in/Classmate-Pulse-Spiral-Notebook-Unruled/dp/B00P93X6EK/ref=sr_1_32?dchild=1&keywords=notebook&qid=1595401671&sr=8-32 Classmate Soft Cover 6 Subject Spiral Binding Notebook, Unruled, 300 Pages ₹ 160.00\n",
      "https://www.amazon.in/Luxor-Subject-Single-Ruled-Notebook/dp/B00LHZW3XY/ref=sr_1_10?dchild=1&keywords=notebook&qid=1595401671&sr=8-10 Luxor 5 Subject Single Ruled Notebook - A5 Size, 70 GSM, 300 Pages ₹ 153.00\n",
      "https://www.amazon.in/Classmate-Pulse-Single-5-Subject-Notebook/dp/B075FR13TK/ref=sr_1_29?dchild=1&keywords=notebook&qid=1595401671&sr=8-29 Classmate 2100128 Soft Cover 5 Subject Spiral Binding Notebook, Single Line, 250 Pages (Assorted cover design) ₹ 110.00\n",
      "https://www.amazon.in/Luxor-Subject-Premium-Exercise-Notebook/dp/B07Q4P3TC8/ref=sr_1_31?dchild=1&keywords=notebook&qid=1595401671&sr=8-31#customerReviews Luxor 5 Subject Spiral Premium Exercise Notebook, Single Ruled - (20.3cm x 26.7cm), 250 Pages ₹ 117.00\n",
      "https://www.amazon.in/Classmate-Notebook-Single-Line-Pages/dp/B086PXQJTR/ref=sr_1_50?dchild=1&keywords=notebook&qid=1595401671&sr=8-50#customerReviews Classmate Notebook - Single Line, 120 Pages, 240 mm x 180 mm - Pack Of 4 ₹ 128.00\n",
      "https://www.amazon.in/Paperkraft-Green-Impression-2250055-Notebook/dp/B00P93WWL8/ref=sr_1_6?dchild=1&keywords=notebook&qid=1595401671&sr=8-6#customerReviews Paperkraft Green impression 5 Subject WIRO binding Notebook - Single line, 300 pages, 176mm x 250mm ₹ 185.00\n",
      "https://www.amazon.in/Classmate-Pulse-Spiral-Notebook-Unruled/dp/B00P93X6EK/ref=sr_1_32?dchild=1&keywords=notebook&qid=1595401671&sr=8-32#customerReviews Classmate Soft Cover 6 Subject Spiral Binding Notebook, Unruled, 300 Pages ₹ 160.00\n",
      "https://www.amazon.in/Factor-Notes-Dotted-Journal-Notebook/dp/B07L681Z83/ref=sr_1_9?dchild=1&keywords=notebook&qid=1595401671&sr=8-9 Factor Notes 3-in-1 pack Dotted Bullet Grid 90 GSM Natural Shade Paper Notebook/ 240 Pages/ B6-120mm X 180mm Journal Diary/ B6D- Kraft 3-in-1 ₹ 199.00\n",
      "https://www.amazon.in/Drapvision-Majestic-Notebook-Enriched-Fountain/dp/B088T5DWL6/ref=sr_1_47?dchild=1&keywords=notebook&qid=1595401671&sr=8-47#customerReviews Drapvision Majestic Series Notebook, A5, 105 GSM Enriched Bond Paper, Fountain Pen Friendly, Design: Always Comeback ₹ 99.00\n",
      "https://www.amazon.in/Doodle-Writing-Cuteness-Overload-Notebook/dp/B07F9XFVCX/ref=sr_1_54?dchild=1&keywords=notebook&qid=1595401671&sr=8-54#customerReviews Doodle Cuteness Overload Wiro Hard Bound Notebook Diary, (6.5 X 8.5 Inches, 80 GSM, 160 Single Ruled Pages) Diary for Girls, Birthday Gift, Gift for Girlfriend ₹ 242.00\n",
      "https://www.amazon.in/Classmate-Notebook-Single-Line-Pages/dp/B0883RPBN4/ref=sr_1_27?dchild=1&keywords=notebook&qid=1595401671&sr=8-27 Classmate Notebook - Single Line, 172 Pages, 190 mm x 155 mm - Pack Of 5 ₹ 140.00\n",
      "https://www.amazon.in/Luxor-Subject-Premium-Exercise-Notebook/dp/B07Q958DL3/ref=sr_1_36?dchild=1&keywords=notebook&qid=1595401671&sr=8-36 Luxor 1 Subject Spiral Premium Exercise Notebook, Single Ruled - (20.3cm x 26.7cm), 160 Pages ₹ 85.00\n",
      "https://www.amazon.in/TARGET-PUBLICATIONS-Notebooks-Writing-Numbers/dp/B081CYTHDK/ref=sr_1_19?dchild=1&keywords=notebook&qid=1595401671&sr=8-19#customerReviews TARGET PUBLICATIONS Long Notebooks Single Line | 164 Ruled Pages | 20 cm x 28 cm Approx | Writing Book with Page Numbers | for School, College and Office Use | Soft Cover | Pack of 6 Books | GSM 58 ₹ 390.00\n",
      "https://www.amazon.in/Classmate-Premium-Subject-Notebook-Single/dp/B00LZLQ624/ref=sr_1_16?dchild=1&keywords=notebook&qid=1595401671&sr=8-16#customerReviews Classmate Soft Cover 6 Subject Spiral Binding Notebook, Single Line, 300 Pages ₹ 158.00\n"
     ]
    },
    {
     "name": "stdout",
     "output_type": "stream",
     "text": [
      "https://www.amazon.in/Factor-Notes-Journal-Diary-Notebook/dp/B07S8N89YD/ref=sr_1_42?dchild=1&keywords=notebook&qid=1595401671&sr=8-42 Factor Notes Ruled 90 GSM Natural Shade Paper Notebook/ 96 Pages / B6-120mm X 180mm Journal Diary/ B6R- Idea ₹ 120.00\n",
      "https://www.amazon.in/Classmate-ITC-Wir-200Pg-Ruld/dp/B07KCSKCB3/ref=sr_1_8?dchild=1&keywords=notebook&qid=1595401671&sr=8-8#customerReviews Classmate Notebook - Single line, Spiral Binding, 240mm x 180mm, 200 Pages ₹ 60.00\n",
      "https://www.amazon.in/Drapvision-Majestic-Notebook-Enriched-Design/dp/B084TVJMCM/ref=sr_1_40?dchild=1&keywords=notebook&qid=1595401671&sr=8-40 Drapvision Majestic Series Notebook, A5, Enriched Bond Pages, Plain, Design: Pure Black ₹ 99.00\n",
      "https://www.amazon.in/Luxor-Subject-Single-Ruled-Notebook/dp/B00LHZWD0C/ref=sr_1_55?dchild=1&keywords=notebook&qid=1595401671&sr=8-55#customerReviews Luxor 5 Subject Single Ruled Notebook - A4, 70 GSM, 300 pages ₹ 289.00\n",
      "https://www.amazon.in/Lauret-Notebook-Journal-Natural-Shade/dp/B07YCV3W9Z/ref=sr_1_41?dchild=1&keywords=notebook&qid=1595401671&sr=8-41#customerReviews Lauret Blanc Ruled Notebook Diary Journal- A5 Size, 144 Ruled Pages, 80 GSM Natural Shade. (Style 12) ₹ 219.00\n",
      "https://www.amazon.in/Paperkraft-Signature-Notebook-Single-Pattern/dp/B00P93WUJ2/ref=sr_1_12?dchild=1&keywords=notebook&qid=1595401671&sr=8-12 Paperkraft Signature Notebook - 148 mm x 216 mm, Hard Cover, 224 Pages, Single Line (Cover Pattern May Very) ₹ 119.00\n",
      "https://www.amazon.in/Classmate-Notebook-Single-Line-Pages/dp/B086PXQJTR/ref=sr_1_50?dchild=1&keywords=notebook&qid=1595401671&sr=8-50 Classmate Notebook - Single Line, 120 Pages, 240 mm x 180 mm - Pack Of 4 ₹ 128.00\n",
      "https://www.amazon.in/Doodle-Writing-Cuteness-Overload-Notebook/dp/B07F9XFVCX/ref=sr_1_54?dchild=1&keywords=notebook&qid=1595401671&sr=8-54 Doodle Cuteness Overload Wiro Hard Bound Notebook Diary, (6.5 X 8.5 Inches, 80 GSM, 160 Single Ruled Pages) Diary for Girls, Birthday Gift, Gift for Girlfriend ₹ 242.00\n",
      "https://www.amazon.in/Luxor-Subject-Premium-Exercise-Notebook/dp/B07Q958DL3/ref=sr_1_36?dchild=1&keywords=notebook&qid=1595401671&sr=8-36#customerReviews Luxor 1 Subject Spiral Premium Exercise Notebook, Single Ruled - (20.3cm x 26.7cm), 160 Pages ₹ 85.00\n",
      "https://www.amazon.in/Lauret-Blanc-Constellation-notebook-Bookmark/dp/B07G8FDTDQ/ref=sr_1_53?dchild=1&keywords=notebook&qid=1595401671&sr=8-53 Lauret Blanc Constellation A5 Unruled notebook with Bookmark- 144 Plain pages, 80 GSM Natural Shade Paper, Soft cover. ₹ 229.00\n",
      "https://www.amazon.in/Luxor-Subject-Premium-Exercise-Notebook/dp/B07QD9353Z/ref=sr_1_30?dchild=1&keywords=notebook&qid=1595401671&sr=8-30 Luxor 1 Subject Spine Taped Premium Exercise Notebook, Single Ruled - (18.5cm x 27.2cm), 180 Pages ₹ 88.00\n",
      "https://www.amazon.in/Paperkraft-Impression-Subject-Executive-Notebook/dp/B00LZLQDGI/ref=sr_1_26?dchild=1&keywords=notebook&qid=1595401671&sr=8-26 Paperkraft Green impression 1 Subject WIRO binding Notebook - Single line, 160 pages, 176mm x 250mm ₹ 135.00\n",
      "https://www.amazon.in/Factor-Notes-Journal-Diary-Notebook/dp/B07SHKZ9XC/ref=sr_1_28?dchild=1&keywords=notebook&qid=1595401671&sr=8-28#customerReviews Factor Notes 2-in-1 pack Dotted Bullet Grid 90 GSM Natural Shade Paper Notebook/ 224 Pages/ B6-120mm X 180mm Journal Diary/ B6D- Cactus ₹ 199.00\n",
      "https://www.amazon.in/Classmate-Premium-Subject-Spiral-Notebook/dp/B00LZLQ0TS/ref=sr_1_34?dchild=1&keywords=notebook&qid=1595401671&sr=8-34 Classmate Premium 6 Subject Spiral Notebook - 203mm x 267mm, Soft Cover, 300 Pages, Unruled ₹ 145.00\n",
      "https://www.amazon.in/Navneet-HQ-Ganesha-Bound-Notebook/dp/B082NJ1BVK/ref=sr_1_52?dchild=1&keywords=notebook&qid=1595401671&sr=8-52 Navneet HQ | Ganesha Series | Case Bound Notebook | WIRO | 14.8 cm X 21 cm | 192 Pages ₹ 150.00\n",
      "https://www.amazon.in/Classmate-Pulse-Spiral-Notebook-Unruled/dp/B00P93X0VO/ref=sr_1_5?dchild=1&keywords=notebook&qid=1595401671&sr=8-5#customerReviews Classmate Pulse 6 Subject Notebook - Unruled, 300 Pages, Spiral Binding, 240mm*180mm ₹ 120.00\n",
      "https://www.amazon.in/Magickrafts-Unruled-Notebooks-Plain-Pages/dp/B081H8YMJX/ref=sr_1_37?dchild=1&keywords=notebook&qid=1595401671&sr=8-37#customerReviews None None\n",
      "https://www.amazon.in/AmazonBasics-Classic-Notebook-Plain-130mm/dp/B01DN8TB5U/ref=sr_1_14?dchild=1&keywords=notebook&qid=1595401671&sr=8-14#customerReviews AmazonBasics Classic Notebook, Plain - (130mm x 210mm) - 240 pages (Black) ₹ 349.00\n",
      "https://www.amazon.in/Lauret-Blanc-Constellation-notebook-Bookmark/dp/B07G8FDTDQ/ref=sr_1_53?dchild=1&keywords=notebook&qid=1595401671&sr=8-53#customerReviews Lauret Blanc Constellation A5 Unruled notebook with Bookmark- 144 Plain pages, 80 GSM Natural Shade Paper, Soft cover. ₹ 229.00\n",
      "https://www.amazon.in/Factor-Notes-Journal-Diary-Notebook/dp/B07SHKZ9XC/ref=sr_1_28?dchild=1&keywords=notebook&qid=1595401671&sr=8-28 Factor Notes 2-in-1 pack Dotted Bullet Grid 90 GSM Natural Shade Paper Notebook/ 224 Pages/ B6-120mm X 180mm Journal Diary/ B6D- Cactus ₹ 199.00\n",
      "https://www.amazon.in/Luxor-Subject-Premium-Exercise-Notebook/dp/B07Q95B1PT/ref=sr_1_38?dchild=1&keywords=notebook&qid=1595401671&sr=8-38 Luxor 1 Subject Spiral Premium Exercise Notebook, Single Ruled - (18cm x 24cm), 180 Pages ₹ 75.00\n",
      "https://www.amazon.in/Drapvision-Majestic-Notebook-Enriched-Fountain/dp/B088T5DWL6/ref=sr_1_47?dchild=1&keywords=notebook&qid=1595401671&sr=8-47 Drapvision Majestic Series Notebook, A5, 105 GSM Enriched Bond Paper, Fountain Pen Friendly, Design: Always Comeback ₹ 99.00\n",
      "https://www.amazon.in/Luxor-Subject-Premium-Exercise-Notebook/dp/B07Q6XTV4K/ref=sr_1_35?dchild=1&keywords=notebook&qid=1595401671&sr=8-35#customerReviews Luxor 5 Subject Spiral Premium Exercise Notebook, Single Ruled - (21cm x 29.7cm), 250 Pages ₹ 145.00\n",
      "https://www.amazon.in/Paperkraft-Impression-Subject-Executive-Notebook/dp/B00LZLQDGI/ref=sr_1_26?dchild=1&keywords=notebook&qid=1595401671&sr=8-26#customerReviews Paperkraft Green impression 1 Subject WIRO binding Notebook - Single line, 160 pages, 176mm x 250mm ₹ 135.00\n",
      "https://www.amazon.in/Paperkraft-Green-Impression-2250055-Notebook/dp/B00P93WWL8/ref=sr_1_6?dchild=1&keywords=notebook&qid=1595401671&sr=8-6 Paperkraft Green impression 5 Subject WIRO binding Notebook - Single line, 300 pages, 176mm x 250mm ₹ 185.00\n",
      "https://www.amazon.in/Luxor-Subject-Premium-Exercise-Notebook/dp/B07ZNRS3L5/ref=sr_1_39?dchild=1&keywords=notebook&qid=1595401671&sr=8-39#customerReviews Luxor 1 Subject Spine Taped Premium Exercise Notebook, Single Ruled - (21cm X 29.7cm), 180 Pages, Pack of 3 ₹ 271.00\n",
      "https://www.amazon.in/Doodle-Ethnic-Motif-Diary-Notebook/dp/B00PGZQMNI/ref=sr_1_51?dchild=1&keywords=notebook&qid=1595401671&sr=8-51 Doodle Ethnic Motif Hard Bound Undated A5 Diary Notebook (5.5 X 8.5 Inches, 80 GSM, 200 Ruled Perforated Pages) Diary for Writing, Gift for Friend, Perosnal Diary ₹ 257.00\n",
      "https://www.amazon.in/Classmate-Selfie-Single-6-Subject-Notebook/dp/B075FT2F2K/ref=sr_1_15?dchild=1&keywords=notebook&qid=1595401671&sr=8-15 Classmate Pulse 6 Subject Notebook - Single Line, 300 Pages, Spiral Binding, 240mm*180mm ₹ 125.00\n",
      "https://www.amazon.in/Luxor-Subject-Single-Ruled-Notebook/dp/B00LHZW3XY/ref=sr_1_10?dchild=1&keywords=notebook&qid=1595401671&sr=8-10#customerReviews Luxor 5 Subject Single Ruled Notebook - A5 Size, 70 GSM, 300 Pages ₹ 153.00\n",
      "https://www.amazon.in/AmazonBasics-Classic-Notebook-Plain-130mm/dp/B01DN8TB5U/ref=sr_1_14?dchild=1&keywords=notebook&qid=1595401671&sr=8-14 AmazonBasics Classic Notebook, Plain - (130mm x 210mm) - 240 pages (Black) ₹ 349.00\n",
      "https://www.amazon.in/Classmate-Premium-Subject-Notebook-Single/dp/B00LZLQ624/ref=sr_1_16?dchild=1&keywords=notebook&qid=1595401671&sr=8-16 Classmate Soft Cover 6 Subject Spiral Binding Notebook, Single Line, 300 Pages ₹ 158.00\n",
      "https://www.amazon.in/Doodle-Unicorn-Notebook-80GSM-Multicolour/dp/B07MQB4ZFT/ref=sr_1_48?dchild=1&keywords=notebook&qid=1595401671&sr=8-48 Doodle Unicorn A5 Size Notebook, 80GSM (Multicolour) ₹ 312.00\n",
      "https://www.amazon.in/Luxor-Subject-Premium-Exercise-Notebook/dp/B07Q6XTPPZ/ref=sr_1_43?dchild=1&keywords=notebook&qid=1595401671&sr=8-43#customerReviews Luxor 1 Subject Spiral Premium Exercise Notebook, Single Ruled - (21cm x 29.7cm), 160 Pages ₹ 99.00\n"
     ]
    },
    {
     "name": "stdout",
     "output_type": "stream",
     "text": [
      "https://www.amazon.in/Drapvision-Majestic-Notebook-Enriched-Design/dp/B084TVJMCM/ref=sr_1_40?dchild=1&keywords=notebook&qid=1595401671&sr=8-40#customerReviews Drapvision Majestic Series Notebook, A5, Enriched Bond Pages, Plain, Design: Pure Black ₹ 99.00\n",
      "https://www.amazon.in/Luxor-Subject-Premium-Exercise-Notebook/dp/B07QHNDF4C/ref=sr_1_24?dchild=1&keywords=notebook&qid=1595401671&sr=8-24 Luxor 1 Subject Spine Taped Premium Exercise Notebook, Single Ruled - (21cm x 29.7cm), 180 Pages ₹ 95.00\n",
      "https://www.amazon.in/Classmate-Pulse-Single-5-Subject-Notebook/dp/B075FR13TK/ref=sr_1_29?dchild=1&keywords=notebook&qid=1595401671&sr=8-29#customerReviews Classmate 2100128 Soft Cover 5 Subject Spiral Binding Notebook, Single Line, 250 Pages (Assorted cover design) ₹ 110.00\n",
      "https://www.amazon.in/Luxor-Subject-Premium-Exercise-Notebook/dp/B07Q6XTPP9/ref=sr_1_11?dchild=1&keywords=notebook&qid=1595401671&sr=8-11#customerReviews Luxor 6 Subject Spiral Premium Exercise Notebook, Single Ruled - (18cm x 24cm), 300 Pages ₹ 120.00\n",
      "https://www.amazon.in/Luxor-Subject-Premium-Exercise-Notebook/dp/B07Q4P3TC8/ref=sr_1_31?dchild=1&keywords=notebook&qid=1595401671&sr=8-31 Luxor 5 Subject Spiral Premium Exercise Notebook, Single Ruled - (20.3cm x 26.7cm), 250 Pages ₹ 117.00\n",
      "https://www.amazon.in/Classmate-Pulse-Spiral-Notebook-Unruled/dp/B00P93X2H6/ref=sr_1_13?dchild=1&keywords=notebook&qid=1595401671&sr=8-13#customerReviews Classmate Pulse Spiral Notebook - 240 mm x 180 mm, Soft Cover, 180 Pages, Unruled ₹ 75.00\n",
      "https://www.amazon.in/Magickrafts-Unruled-Notebooks-Plain-Pages/dp/B081H8YMJX/ref=sr_1_37?dchild=1&keywords=notebook&qid=1595401671&sr=8-37 None None\n",
      "https://www.amazon.in/Luxor-Subject-Single-Ruled-Notebook/dp/B00LHZWD0C/ref=sr_1_55?dchild=1&keywords=notebook&qid=1595401671&sr=8-55 Luxor 5 Subject Single Ruled Notebook - A4, 70 GSM, 300 pages ₹ 289.00\n",
      "https://www.amazon.in/Luxor-Subject-Premium-Exercise-Notebook/dp/B07Q95B1PT/ref=sr_1_38?dchild=1&keywords=notebook&qid=1595401671&sr=8-38#customerReviews Luxor 1 Subject Spiral Premium Exercise Notebook, Single Ruled - (18cm x 24cm), 180 Pages ₹ 75.00\n",
      "https://www.amazon.in/Lauret-Notebook-Journal-Natural-Shade/dp/B07YCV3W9Z/ref=sr_1_41?dchild=1&keywords=notebook&qid=1595401671&sr=8-41 Lauret Blanc Ruled Notebook Diary Journal- A5 Size, 144 Ruled Pages, 80 GSM Natural Shade. (Style 12) ₹ 219.00\n",
      "https://www.amazon.in/Classmate-Hard-Unruled-Long-Book/dp/B0751FRWJW/ref=sr_1_33?dchild=1&keywords=notebook&qid=1595401671&sr=8-33#customerReviews None None\n",
      "https://www.amazon.in/Classmate-Notebook-Single-Line-Pages/dp/B086Q2PJDW/ref=sr_1_45?dchild=1&keywords=notebook&qid=1595401671&sr=8-45 Classmate Notebook - Single Line, 172 Pages, 240 mm x 180 mm - Pack Of 4 ₹ 190.00\n",
      "https://www.amazon.in/Luxor-Subject-Premium-Exercise-Notebook/dp/B07ZNRS3L5/ref=sr_1_39?dchild=1&keywords=notebook&qid=1595401671&sr=8-39 Luxor 1 Subject Spine Taped Premium Exercise Notebook, Single Ruled - (21cm X 29.7cm), 180 Pages, Pack of 3 ₹ 271.00\n",
      "https://www.amazon.in/Navneet-HQ-Ganesha-Bound-Notebook/dp/B082NJ1BVK/ref=sr_1_52?dchild=1&keywords=notebook&qid=1595401671&sr=8-52#customerReviews Navneet HQ | Ganesha Series | Case Bound Notebook | WIRO | 14.8 cm X 21 cm | 192 Pages ₹ 150.00\n",
      "https://www.amazon.in/AmazonBasics-Classic-Notebook-Plain-130mm/dp/B01DN8TB5U/ref=ice_ac_b_dpb?dchild=1&keywords=notebook&qid=1595401671&sr=8-14 AmazonBasics Classic Notebook, Plain - (130mm x 210mm) - 240 pages (Black) ₹ 349.00\n",
      "https://www.amazon.in/Classmate-ITC-Wir-200Pg-Ruld/dp/B07KCSKCB3/ref=sr_1_8?dchild=1&keywords=notebook&qid=1595401671&sr=8-8 Classmate Notebook - Single line, Spiral Binding, 240mm x 180mm, 200 Pages ₹ 60.00\n",
      "https://www.amazon.in/Classmate-Premium-Subject-Spiral-Notebook/dp/B00LZLQ0TS/ref=sr_1_34?dchild=1&keywords=notebook&qid=1595401671&sr=8-34#customerReviews Classmate Premium 6 Subject Spiral Notebook - 203mm x 267mm, Soft Cover, 300 Pages, Unruled ₹ 145.00\n",
      "https://www.amazon.in/Factor-Notes-Journal-Diary-Notebook/dp/B07SCXQY7W/ref=sr_1_7?dchild=1&keywords=notebook&qid=1595401671&sr=8-7#customerReviews Factor Notes Ruled 90 GSM Natural Shade Paper Notebook/ 112 Pages / B6-120mm X 180mm Journal Diary/ B6R- Sunshine Mixed with a Hurricane ₹ 119.00\n",
      "https://www.amazon.in/Factor-Notes-Journal-Diary-Notebook/dp/B07S8N89YD/ref=sr_1_42?dchild=1&keywords=notebook&qid=1595401671&sr=8-42#customerReviews Factor Notes Ruled 90 GSM Natural Shade Paper Notebook/ 96 Pages / B6-120mm X 180mm Journal Diary/ B6R- Idea ₹ 120.00\n",
      "https://www.amazon.in/Luxor-Subject-Premium-Exercise-Notebook/dp/B07Q6XTPP9/ref=sr_1_11?dchild=1&keywords=notebook&qid=1595401671&sr=8-11 Luxor 6 Subject Spiral Premium Exercise Notebook, Single Ruled - (18cm x 24cm), 300 Pages ₹ 120.00\n",
      "https://www.amazon.in/Classmate-Hard-Unruled-Long-Book/dp/B0751FRWJW/ref=sr_1_33?dchild=1&keywords=notebook&qid=1595401671&sr=8-33 None None\n",
      "https://www.amazon.in/Luxor-Subject-Premium-Exercise-Notebook/dp/B07Q6XTV4K/ref=sr_1_35?dchild=1&keywords=notebook&qid=1595401671&sr=8-35 Luxor 5 Subject Spiral Premium Exercise Notebook, Single Ruled - (21cm x 29.7cm), 250 Pages ₹ 145.00\n",
      "https://www.amazon.in/Luxor-Subject-Premium-Exercise-Notebook/dp/B07Q3QV7X5/ref=sr_1_25?dchild=1&keywords=notebook&qid=1595401671&sr=8-25 Luxor 6 Subject Spiral Premium Exercise Notebook, Single Ruled - (21cm x 29.7cm), 300 Pages ₹ 145.00\n",
      "https://www.amazon.in/Paperkraft-Signature-Notebook-Single-Pattern/dp/B00P93WUJ2/ref=sr_1_12?dchild=1&keywords=notebook&qid=1595401671&sr=8-12#customerReviews Paperkraft Signature Notebook - 148 mm x 216 mm, Hard Cover, 224 Pages, Single Line (Cover Pattern May Very) ₹ 119.00\n",
      "https://www.amazon.in/Classmate-Selfie-Single-6-Subject-Notebook/dp/B075FT2F2K/ref=sr_1_15?dchild=1&keywords=notebook&qid=1595401671&sr=8-15#customerReviews Classmate Pulse 6 Subject Notebook - Single Line, 300 Pages, Spiral Binding, 240mm*180mm ₹ 125.00\n",
      "https://www.amazon.in/Classmate-Pulse-Spiral-Notebook-Unruled/dp/B00P93X2H6/ref=sr_1_13?dchild=1&keywords=notebook&qid=1595401671&sr=8-13 Classmate Pulse Spiral Notebook - 240 mm x 180 mm, Soft Cover, 180 Pages, Unruled ₹ 75.00\n",
      "https://www.amazon.in/TARGET-PUBLICATIONS-Notebooks-Writing-Numbers/dp/B081CYTHDK/ref=sr_1_19?dchild=1&keywords=notebook&qid=1595401671&sr=8-19 TARGET PUBLICATIONS Long Notebooks Single Line | 164 Ruled Pages | 20 cm x 28 cm Approx | Writing Book with Page Numbers | for School, College and Office Use | Soft Cover | Pack of 6 Books | GSM 58 ₹ 390.00\n",
      "https://www.amazon.in/Factor-Notes-2-1-Notebook/dp/B081B14SKZ/ref=sr_1_20?dchild=1&keywords=notebook&qid=1595401671&sr=8-20#customerReviews Factor Notes 2-in-1 pack Dotted Bullet Grid 90 GSM Natural Shade Paper Notebook/ 320 Pages/ A5-140mm x 210 mm/ A5D- Kraft 2-in-1 ₹ 265.00\n"
     ]
    }
   ],
   "source": [
    "df_sub = df_sub.apply(row_scrape_event, axis=1)"
   ]
  },
  {
   "cell_type": "code",
   "execution_count": 35,
   "metadata": {},
   "outputs": [],
   "source": [
    "df_sub.to_csv(product_output,index = False)"
   ]
  },
  {
   "cell_type": "code",
   "execution_count": null,
   "metadata": {},
   "outputs": [],
   "source": []
  }
 ],
 "metadata": {
  "kernelspec": {
   "display_name": "Python 3",
   "language": "python",
   "name": "python3"
  },
  "language_info": {
   "codemirror_mode": {
    "name": "ipython",
    "version": 3
   },
   "file_extension": ".py",
   "mimetype": "text/x-python",
   "name": "python",
   "nbconvert_exporter": "python",
   "pygments_lexer": "ipython3",
   "version": "3.7.7"
  }
 },
 "nbformat": 4,
 "nbformat_minor": 4
}
