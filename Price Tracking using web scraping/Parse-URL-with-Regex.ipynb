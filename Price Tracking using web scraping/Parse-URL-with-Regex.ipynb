{
 "cells": [
  {
   "cell_type": "code",
   "execution_count": 22,
   "metadata": {},
   "outputs": [],
   "source": [
    "import re\n",
    "\n",
    "import requests\n",
    "import time\n",
    "from selenium import webdriver\n",
    "from selenium.webdriver.chrome.options import Options"
   ]
  },
  {
   "cell_type": "code",
   "execution_count": 3,
   "metadata": {},
   "outputs": [],
   "source": [
    "options = Options()\n",
    "options.add_argument('--headless')\n",
    "options.add_argument('--incognito')\n",
    "options.add_argument('--ignore-certificate-errors')"
   ]
  },
  {
   "cell_type": "code",
   "execution_count": 5,
   "metadata": {},
   "outputs": [],
   "source": [
    "drivers = webdriver.Chrome(options = options)"
   ]
  },
  {
   "cell_type": "code",
   "execution_count": 44,
   "metadata": {},
   "outputs": [],
   "source": [
    "category =[\n",
    "    \"https://www.amazon.in/s?k=laptop\"\n",
    "    \"https://www.amazon.in/s?k=n95+mask\"\n",
    "    \"https://www.amazon.in/s?k=notebook\"\n",
    "]"
   ]
  },
  {
   "cell_type": "code",
   "execution_count": 7,
   "metadata": {},
   "outputs": [],
   "source": [
    "from requests_html import HTML"
   ]
  },
  {
   "cell_type": "code",
   "execution_count": 8,
   "metadata": {},
   "outputs": [],
   "source": [
    "first_url = category[0]"
   ]
  },
  {
   "cell_type": "code",
   "execution_count": 9,
   "metadata": {},
   "outputs": [],
   "source": [
    "drivers.get(first_url)"
   ]
  },
  {
   "cell_type": "code",
   "execution_count": 10,
   "metadata": {},
   "outputs": [],
   "source": [
    "body_el = drivers.find_element_by_css_selector(\"body\")"
   ]
  },
  {
   "cell_type": "code",
   "execution_count": 11,
   "metadata": {},
   "outputs": [],
   "source": [
    "html_str = body_el.get_attribute(\"innerHTML\")"
   ]
  },
  {
   "cell_type": "code",
   "execution_count": 12,
   "metadata": {},
   "outputs": [],
   "source": [
    "html_obj = HTML(html =html_str)"
   ]
  },
  {
   "cell_type": "code",
   "execution_count": 23,
   "metadata": {},
   "outputs": [],
   "source": [
    "new_links =[x for x in html_obj.links if x.startswith('/')]\n"
   ]
  },
  {
   "cell_type": "code",
   "execution_count": 34,
   "metadata": {},
   "outputs": [],
   "source": [
    "page_links = [f\"https://www.amazon.in{x}\"for x in new_links]\n"
   ]
  },
  {
   "cell_type": "code",
   "execution_count": 35,
   "metadata": {},
   "outputs": [
    {
     "data": {
      "text/plain": [
       "189"
      ]
     },
     "execution_count": 35,
     "metadata": {},
     "output_type": "execute_result"
    }
   ],
   "source": [
    "len(page_links)\n"
   ]
  },
  {
   "cell_type": "code",
   "execution_count": 16,
   "metadata": {},
   "outputs": [],
   "source": [
    "def product_scapper(url,title_lookup = \"#productTitle\",price_lookup = \"#priceblock_ourprice\"):\n",
    "    drivers.get(url)\n",
    "    time.sleep(1.2)\n",
    "    body_el = drivers.find_element_by_css_selector(\"body\")\n",
    "    html_str = body_el.get_attribute(\"innerHTML\")\n",
    "    html_obj = HTML(html =html_str)\n",
    "    product_title = html_obj.find(title_lookup,first = True).text\n",
    "    product_price = html_obj.find(price_lookup,first = True).text\n",
    "    return product_title,product_price"
   ]
  },
  {
   "cell_type": "code",
   "execution_count": 17,
   "metadata": {},
   "outputs": [
    {
     "name": "stdout",
     "output_type": "stream",
     "text": [
      "https://www.amazon.in/gp/slredirect/picassoRedirect.html/ref=pa_sp_atf_aps_sr_pg1_1?ie=UTF8&adId=A08911563DA8D9L7B020P&url=%2FDell-Inspiron-N7380-Integrated-Graphics%2Fdp%2FB07NVMLD6R%2Fref%3Dsr_1_1_sspa%3Fdchild%3D1%26keywords%3Dlaptop%26qid%3D1595398961%26sr%3D8-1-spons%26psc%3D1&qualifier=1595398960&id=3973719405946721&widgetName=sp_atf#customerReviews\n"
     ]
    }
   ],
   "source": [
    "first_product_link = page_links[4]\n",
    "\n",
    "print(first_product_link)"
   ]
  },
  {
   "cell_type": "code",
   "execution_count": 18,
   "metadata": {},
   "outputs": [
    {
     "name": "stdout",
     "output_type": "stream",
     "text": [
      "https://www.amazon.in/gp/slredirect/picassoRedirect.html/ref=pa_sp_mtf_aps_sr_pg1_1?ie=UTF8&adId=A03312191AS9A4B8T9M5V&url=%2FLenovo-Ideapad-Convertible-Laptop-81TK00GTIN%2Fdp%2FB08695HMJQ%2Fref%3Dsr_1_12_sspa%3Fdchild%3D1%26keywords%3Dlaptop%26qid%3D1595398961%26sr%3D8-12-spons%26psc%3D1&qualifier=1595398960&id=3973719405946721&widgetName=sp_mtf Lenovo Ideapad C340 Intel Core i5 10th Gen 14 inch FHD 2 in 1 Convertible Laptop (8GB/512GB SSD/Window/Office/Gray/1.6Kg), 81TK00GTIN ₹ 65,990.00\n",
      "https://www.amazon.in/Lenovo-Windows-GTX1650-Graphics-81SY00C7IN/dp/B07VP6FGM8/ref=sr_1_15?dchild=1&keywords=laptop&qid=1595398961&sr=8-15 Lenovo Legion Y540 9th Gen Intel core i5 15.6 inch FHD Gaming Laptop(8GB/1TB SSD/Windows 10/MS Office/4GB NVIDIA GTX1650 Graphics/Black/2.3Kg), 81SY00C7IN ₹ 74,490.00\n",
      "https://www.amazon.in/Mi-Notebook-i7-10510U-Graphics-XMA1904-AF/dp/B089F2W1KW/ref=sr_1_4?dchild=1&keywords=laptop&qid=1595398961&sr=8-4 Mi Notebook Horizon Edition 14 Intel Core i7-10510U 10th Gen Thin and Light Laptop(8GB/512GB SSD/Windows 10/Nvidia MX350 2GB Graphics/Grey/1.35Kg), XMA1904-AF+Webcam ₹ 59,999.00\n",
      "https://www.amazon.in/gp/slredirect/picassoRedirect.html/ref=pa_sp_atf_aps_sr_pg1_1?ie=UTF8&adId=A08911563DA8D9L7B020P&url=%2FDell-Inspiron-N7380-Integrated-Graphics%2Fdp%2FB07NVMLD6R%2Fref%3Dsr_1_1_sspa%3Fdchild%3D1%26keywords%3Dlaptop%26qid%3D1595398961%26sr%3D8-1-spons%26psc%3D1&qualifier=1595398960&id=3973719405946721&widgetName=sp_atf#customerReviews Dell Inspiron 7380 13.3-inch FHD Thin & Light Laptop (Core i7/16GB/512GB SSD/Win 10 + MS Office/Integrated Graphics) ₹ 96,990.00\n",
      "https://www.amazon.in/Mi-Notebook-i5-10210U-Graphics-XMA1901-FA/dp/B089F4GTDW/ref=sr_1_3?dchild=1&keywords=laptop&qid=1595398961&sr=8-3#customerReviews Mi Notebook 14 Intel Core i5-10210U 10th Gen Thin and Light Laptop(8GB/512GB SSD/Windows 10/Intel UHD Graphics/Silver/1.5Kg), XMA1901-FA+Webcam ₹ 44,999.00\n",
      "https://www.amazon.in/gp/slredirect/picassoRedirect.html/ref=pa_sp_mtf_aps_sr_pg1_1?ie=UTF8&adId=A03312191AS9A4B8T9M5V&url=%2FLenovo-Ideapad-Convertible-Laptop-81TK00GTIN%2Fdp%2FB08695HMJQ%2Fref%3Dsr_1_12_sspa%3Fdchild%3D1%26keywords%3Dlaptop%26qid%3D1595398961%26sr%3D8-12-spons%26psc%3D1&qualifier=1595398960&id=3973719405946721&widgetName=sp_mtf#customerReviews Lenovo Ideapad C340 Intel Core i5 10th Gen 14 inch FHD 2 in 1 Convertible Laptop (8GB/512GB SSD/Window/Office/Gray/1.6Kg), 81TK00GTIN ₹ 65,990.00\n",
      "https://www.amazon.in/HP-du2069TU-15-6-inch-i3-1005G1-Integrated/dp/B087S3FPDG/ref=sr_1_16?dchild=1&keywords=laptop&qid=1595398961&sr=8-16 HP 15s du2069TU 15.6-inch Laptop (10th Gen i3-1005G1/4GB/1TB/Windows 10 Home/Integrated Graphics), Jet Black ₹ 34,859.00\n",
      "https://www.amazon.in/Lenovo-ThinkPad-14-inch-Windows-20RAS0SG00/dp/B086VXW8WC/ref=sr_1_17?dchild=1&keywords=laptop&qid=1595398961&sr=8-17 Lenovo ThinkPad E14 Intel Core i3 10th Gen 14-inch Full HD Thin and Light Laptop (4GB RAM/ 1TB HDD/ Windows 10 Home/ Black/ 1.77 kg), 20RAS0SG00 ₹ 38,990.00\n",
      "https://www.amazon.in/gp/slredirect/picassoRedirect.html/ref=pa_sp_atf_aps_sr_pg1_1?ie=UTF8&adId=A033139913AQNU9KJYP43&url=%2FLenovo-81UE0034IN-13-3-inch-Convertible-Integrated%2Fdp%2FB083PFZXC4%2Fref%3Dsr_1_2_sspa%3Fdchild%3D1%26keywords%3Dlaptop%26qid%3D1595398961%26sr%3D8-2-spons%26psc%3D1&qualifier=1595398960&id=3973719405946721&widgetName=sp_atf Lenovo Yoga C640 81UE0034IN 13.3-inch FHD IPS Convertible Laptop (10th Gen CORE I5-10210U/8GB/512GB SSD/Windows 10/Microsoft Office/Integrated Graphics), Iron Grey ₹ 80,990.00\n",
      "https://www.amazon.in/Mi-Notebook-i7-10510U-Graphics-XMA1904-AF/dp/B089F2W1KW/ref=sr_1_4?dchild=1&keywords=laptop&qid=1595398961&sr=8-4#customerReviews Mi Notebook Horizon Edition 14 Intel Core i7-10510U 10th Gen Thin and Light Laptop(8GB/512GB SSD/Windows 10/Nvidia MX350 2GB Graphics/Grey/1.35Kg), XMA1904-AF+Webcam ₹ 59,999.00\n",
      "https://www.amazon.in/gp/slredirect/picassoRedirect.html/ref=pa_sp_btf_aps_sr_pg1_1?ie=UTF8&adId=A03317432WJLTLO8NU00M&url=%2FLenovo-81XA002SIN-13-3-inch-I5-10210U-Microsoft%2Fdp%2FB083PDCP94%2Fref%3Dsr_1_22_sspa%3Fdchild%3D1%26keywords%3Dlaptop%26qid%3D1595398961%26sr%3D8-22-spons%26psc%3D1&qualifier=1595398960&id=3973719405946721&widgetName=sp_btf#customerReviews Lenovo IdeaPad S540 81XA002SIN 13.3-inch QHD Ultra Thin and Light Laptop (10th Gen CORE I5-10210U/8GB/512GB SSD/Windows 10/Microsoft Office/2GB Graphics), Light Silver ₹ 79,990.00\n",
      "https://www.amazon.in/Zinq-Technologies-Cooling-Notebook-Laptop/dp/B07TYPTCNV/ref=sr_1_20?dchild=1&keywords=laptop&qid=1595398961&sr=8-20 Zinq Technologies Cool Slate Dual Fan Cooling Pad for Notebook/Laptop with Dual USB Port(Black) ₹ 799.00\n",
      "https://www.amazon.in/Mi-Notebook-i5-10210U-Graphics-XMA1901-FA/dp/B089F4GTDW/ref=sr_1_3?dchild=1&keywords=laptop&qid=1595398961&sr=8-3 Mi Notebook 14 Intel Core i5-10210U 10th Gen Thin and Light Laptop(8GB/512GB SSD/Windows 10/Intel UHD Graphics/Silver/1.5Kg), XMA1901-FA+Webcam ₹ 44,999.00\n",
      "https://www.amazon.in/gp/slredirect/picassoRedirect.html/ref=pa_sp_btf_aps_sr_pg1_1?ie=UTF8&adId=A03317432WJLTLO8NU00M&url=%2FLenovo-81XA002SIN-13-3-inch-I5-10210U-Microsoft%2Fdp%2FB083PDCP94%2Fref%3Dsr_1_22_sspa%3Fdchild%3D1%26keywords%3Dlaptop%26qid%3D1595398961%26sr%3D8-22-spons%26psc%3D1&qualifier=1595398960&id=3973719405946721&widgetName=sp_btf Lenovo IdeaPad S540 81XA002SIN 13.3-inch QHD Ultra Thin and Light Laptop (10th Gen CORE I5-10210U/8GB/512GB SSD/Windows 10/Microsoft Office/2GB Graphics), Light Silver ₹ 79,990.00\n",
      "https://www.amazon.in/gp/slredirect/picassoRedirect.html/ref=pa_sp_atf_aps_sr_pg1_1?ie=UTF8&adId=A033139913AQNU9KJYP43&url=%2FLenovo-81UE0034IN-13-3-inch-Convertible-Integrated%2Fdp%2FB083PFZXC4%2Fref%3Dsr_1_2_sspa%3Fdchild%3D1%26keywords%3Dlaptop%26qid%3D1595398961%26sr%3D8-2-spons%26psc%3D1&qualifier=1595398960&id=3973719405946721&widgetName=sp_atf#customerReviews Lenovo Yoga C640 81UE0034IN 13.3-inch FHD IPS Convertible Laptop (10th Gen CORE I5-10210U/8GB/512GB SSD/Windows 10/Microsoft Office/Integrated Graphics), Iron Grey ₹ 80,990.00\n",
      "https://www.amazon.in/HP-Pavilion-15-6-inch-Graphics-15-bc504TX/dp/B07S8PXB2X/ref=sr_1_10?dchild=1&keywords=laptop&qid=1595398961&sr=8-10 HP Pavilion Gaming 9th Gen Intel Core i5 Processor 15.6-inch FHD Gaming Laptop (8GB/1TB HDD/Windows 10/NVIDIA GTX 1050 4GB Graphics/Shadow Black/2.17 kg), 15-bc504TX ₹ 66,580.00\n",
      "https://www.amazon.in/Lenovo-Windows-GTX1650-Graphics-81SY00C7IN/dp/B07VP6FGM8/ref=sr_1_15?dchild=1&keywords=laptop&qid=1595398961&sr=8-15#customerReviews Lenovo Legion Y540 9th Gen Intel core i5 15.6 inch FHD Gaming Laptop(8GB/1TB SSD/Windows 10/MS Office/4GB NVIDIA GTX1650 Graphics/Black/2.3Kg), 81SY00C7IN ₹ 74,490.00\n",
      "https://www.amazon.in/gp/slredirect/picassoRedirect.html/ref=pa_sp_atf_aps_sr_pg1_1?ie=UTF8&adId=A08911563DA8D9L7B020P&url=%2FDell-Inspiron-N7380-Integrated-Graphics%2Fdp%2FB07NVMLD6R%2Fref%3Dsr_1_1_sspa%3Fdchild%3D1%26keywords%3Dlaptop%26qid%3D1595398961%26sr%3D8-1-spons%26psc%3D1&qualifier=1595398960&id=3973719405946721&widgetName=sp_atf Dell Inspiron 7380 13.3-inch FHD Thin & Light Laptop (Core i7/16GB/512GB SSD/Win 10 + MS Office/Integrated Graphics) ₹ 96,990.00\n",
      "https://www.amazon.in/gp/slredirect/picassoRedirect.html/ref=pa_sp_mtf_aps_sr_pg1_1?ie=UTF8&adId=A033149961YMO7D9PJAR&url=%2FLenovo-Ideapad-Laptop-Windows-81N8009RIN%2Fdp%2FB07ZP4WCXZ%2Fref%3Dsr_1_11_sspa%3Fdchild%3D1%26keywords%3Dlaptop%26qid%3D1595398961%26sr%3D8-11-spons%26psc%3D1&qualifier=1595398960&id=3973719405946721&widgetName=sp_mtf Lenovo Ideapad S340 8th Gen Intel Core i5 15.6 inch FHD Thin and Light Laptop (8GB/512GB SSD/Windows 10/2GB MX230/Grey/1.8Kg), 81N8009RIN ₹ 57,990.00\n",
      "https://www.amazon.in/Lenovo-ThinkPad-14-inch-Microsoft-20RAS0KY00/dp/B089NZ7RMH/ref=sr_1_13?dchild=1&keywords=laptop&qid=1595398961&sr=8-13#customerReviews Lenovo ThinkPad E14 Intel Core i5 10th Gen 14-inch Full HD Thin and Light Laptop (8GB RAM/ 1TB HDD + 128GB SSD/ Windows 10 Home/ Microsoft Office Home & Student 2019/ Black/ 1.77 kg), 20RAS0KY00 ₹ 59,990.00\n",
      "https://www.amazon.in/HP-ds0058TU-15-6-inch-i3-8130U-Windows/dp/B085W6QPYF/ref=sr_1_19?dchild=1&keywords=laptop&qid=1595398961&sr=8-19#customerReviews HP 15q ds0058TU 15.6-inch Laptop (8th Gen Core i3-8130U/4GB/1TB HDD/Windows 10 Home/MS Office 2019), Jet Black ₹ 35,469.00\n"
     ]
    },
    {
     "name": "stdout",
     "output_type": "stream",
     "text": [
      "https://www.amazon.in/Lenovo-Ideapad-Windows-Platinum-81WE004YIN/dp/B08BSGB42Y/ref=sr_1_8?dchild=1&keywords=laptop&qid=1595398961&sr=8-8#customerReviews Lenovo Ideapad Slim 3i Intel Core i5 10th Gen 15.6 FHD Thin and Light Laptop (8GB/1TB+256GB SSD/Windows/Office/Platinum Grey/1.85Kg), 81WE004YIN ₹ 50,990.00\n",
      "https://www.amazon.in/gp/slredirect/picassoRedirect.html/ref=pa_sp_btf_aps_sr_pg1_1?ie=UTF8&adId=A03313431VJ5GU7KXJUVT&url=%2FLenovo-Ideapad-Generation-Windows-81NF006PIN%2Fdp%2FB08696HYMC%2Fref%3Dsr_1_21_sspa%3Fdchild%3D1%26keywords%3Dlaptop%26qid%3D1595398961%26sr%3D8-21-spons%26psc%3D1&qualifier=1595398960&id=3973719405946721&widgetName=sp_btf#customerReviews Lenovo Ideapad S540 10th Generation Intel Core i5 14 inch FHD Thin and Light Laptop (8GB/512GB SSD/Windows 10/Office 2019/Grey/1.5Kg), 81NF006PIN ₹ 62,990.00\n",
      "https://www.amazon.in/HP-ds0058TU-15-6-inch-i3-8130U-Windows/dp/B085W6QPYF/ref=sr_1_19?dchild=1&keywords=laptop&qid=1595398961&sr=8-19 HP 15q ds0058TU 15.6-inch Laptop (8th Gen Core i3-8130U/4GB/1TB HDD/Windows 10 Home/MS Office 2019), Jet Black ₹ 35,469.00\n",
      "https://www.amazon.in/HP-Processor-14-inch-i5-1035G1-cs3009TU/dp/B087S265GM/ref=sr_1_5?dchild=1&keywords=laptop&qid=1595398961&sr=8-5 HP 14 10th Gen Intel Core i5 Processor 14-inch Laptop (i5-1035G1/8GB/1TB HDD + 256GB SSD/Win 10 Home/MS Office/Natural Silver ),14s cs3009TU ₹ 59,999.00\n",
      "https://www.amazon.in/Zinq-Technologies-Cooling-Notebook-Laptop/dp/B07TYPTCNV/ref=sr_1_20?dchild=1&keywords=laptop&qid=1595398961&sr=8-20#customerReviews Zinq Technologies Cool Slate Dual Fan Cooling Pad for Notebook/Laptop with Dual USB Port(Black) ₹ 799.00\n",
      "https://www.amazon.in/Lenovo-ThinkPad-14-inch-Microsoft-20RAS0KY00/dp/B089NZ7RMH/ref=sr_1_13?dchild=1&keywords=laptop&qid=1595398961&sr=8-13 Lenovo ThinkPad E14 Intel Core i5 10th Gen 14-inch Full HD Thin and Light Laptop (8GB RAM/ 1TB HDD + 128GB SSD/ Windows 10 Home/ Microsoft Office Home & Student 2019/ Black/ 1.77 kg), 20RAS0KY00 ₹ 59,990.00\n",
      "https://www.amazon.in/HP-Pavilion-15-6-inch-Graphics-15-bc504TX/dp/B07S8PXB2X/ref=sr_1_10?dchild=1&keywords=laptop&qid=1595398961&sr=8-10#customerReviews HP Pavilion Gaming 9th Gen Intel Core i5 Processor 15.6-inch FHD Gaming Laptop (8GB/1TB HDD/Windows 10/NVIDIA GTX 1050 4GB Graphics/Shadow Black/2.17 kg), 15-bc504TX ₹ 66,580.00\n",
      "https://www.amazon.in/HP-du2069TU-15-6-inch-i3-1005G1-Integrated/dp/B087S3FPDG/ref=sr_1_16?dchild=1&keywords=laptop&qid=1595398961&sr=8-16#customerReviews HP 15s du2069TU 15.6-inch Laptop (10th Gen i3-1005G1/4GB/1TB/Windows 10 Home/Integrated Graphics), Jet Black ₹ 34,859.00\n",
      "https://www.amazon.in/HP-Processor-14-inch-i5-1035G1-cs3009TU/dp/B087S265GM/ref=sr_1_5?dchild=1&keywords=laptop&qid=1595398961&sr=8-5#customerReviews HP 14 10th Gen Intel Core i5 Processor 14-inch Laptop (i5-1035G1/8GB/1TB HDD + 256GB SSD/Win 10 Home/MS Office/Natural Silver ),14s cs3009TU ₹ 59,999.00\n",
      "https://www.amazon.in/Lenovo-Ideapad-Windows-Platinum-81WE004YIN/dp/B08BSGB42Y/ref=sr_1_8?dchild=1&keywords=laptop&qid=1595398961&sr=8-8 Lenovo Ideapad Slim 3i Intel Core i5 10th Gen 15.6 FHD Thin and Light Laptop (8GB/1TB+256GB SSD/Windows/Office/Platinum Grey/1.85Kg), 81WE004YIN ₹ 50,990.00\n",
      "https://www.amazon.in/Lenovo-Legion-Gaming-Windows-81SY00SUIN/dp/B088RLLCD1/ref=sr_1_9?dchild=1&keywords=laptop&qid=1595398961&sr=8-9 Lenovo Legion Y540 Intel Core i7 9th Gen 15.6 inch FHD Gaming Laptop (8GB/1TB HDD + 256 GB SSD/Windows 10/4GB NVIDIA GTX 1650/Black/2.3Kg), 81SY00SUIN ₹ 77,990.00\n",
      "https://www.amazon.in/Lenovo-Legion-Gaming-Windows-81SY00SUIN/dp/B088RLLCD1/ref=sr_1_9?dchild=1&keywords=laptop&qid=1595398961&sr=8-9#customerReviews Lenovo Legion Y540 Intel Core i7 9th Gen 15.6 inch FHD Gaming Laptop (8GB/1TB HDD + 256 GB SSD/Windows 10/4GB NVIDIA GTX 1650/Black/2.3Kg), 81SY00SUIN ₹ 77,990.00\n",
      "https://www.amazon.in/gp/slredirect/picassoRedirect.html/ref=pa_sp_mtf_aps_sr_pg1_1?ie=UTF8&adId=A033149961YMO7D9PJAR&url=%2FLenovo-Ideapad-Laptop-Windows-81N8009RIN%2Fdp%2FB07ZP4WCXZ%2Fref%3Dsr_1_11_sspa%3Fdchild%3D1%26keywords%3Dlaptop%26qid%3D1595398961%26sr%3D8-11-spons%26psc%3D1&qualifier=1595398960&id=3973719405946721&widgetName=sp_mtf#customerReviews Lenovo Ideapad S340 8th Gen Intel Core i5 15.6 inch FHD Thin and Light Laptop (8GB/512GB SSD/Windows 10/2GB MX230/Grey/1.8Kg), 81N8009RIN ₹ 57,990.00\n",
      "https://www.amazon.in/gp/slredirect/picassoRedirect.html/ref=pa_sp_btf_aps_sr_pg1_1?ie=UTF8&adId=A03313431VJ5GU7KXJUVT&url=%2FLenovo-Ideapad-Generation-Windows-81NF006PIN%2Fdp%2FB08696HYMC%2Fref%3Dsr_1_21_sspa%3Fdchild%3D1%26keywords%3Dlaptop%26qid%3D1595398961%26sr%3D8-21-spons%26psc%3D1&qualifier=1595398960&id=3973719405946721&widgetName=sp_btf Lenovo Ideapad S540 10th Generation Intel Core i5 14 inch FHD Thin and Light Laptop (8GB/512GB SSD/Windows 10/Office 2019/Grey/1.5Kg), 81NF006PIN ₹ 62,990.00\n",
      "https://www.amazon.in/Lenovo-Ideapad-Convertible-Laptop-81TK00GTIN/dp/B08695HMJQ/ref=sr_1_18?dchild=1&keywords=laptop&qid=1595398961&sr=8-18 Lenovo Ideapad C340 Intel Core i5 10th Gen 14 inch FHD 2 in 1 Convertible Laptop (8GB/512GB SSD/Window/Office/Gray/1.6Kg), 81TK00GTIN ₹ 65,990.00\n",
      "https://www.amazon.in/Lenovo-Ideapad-Convertible-Laptop-81TK00GTIN/dp/B08695HMJQ/ref=sr_1_18?dchild=1&keywords=laptop&qid=1595398961&sr=8-18#customerReviews Lenovo Ideapad C340 Intel Core i5 10th Gen 14 inch FHD 2 in 1 Convertible Laptop (8GB/512GB SSD/Window/Office/Gray/1.6Kg), 81TK00GTIN ₹ 65,990.00\n",
      "https://www.amazon.in/Lenovo-ThinkPad-14-inch-Windows-20RAS0SG00/dp/B086VXW8WC/ref=sr_1_17?dchild=1&keywords=laptop&qid=1595398961&sr=8-17#customerReviews Lenovo ThinkPad E14 Intel Core i3 10th Gen 14-inch Full HD Thin and Light Laptop (4GB RAM/ 1TB HDD/ Windows 10 Home/ Black/ 1.77 kg), 20RAS0SG00 ₹ 38,990.00\n"
     ]
    }
   ],
   "source": [
    "a = {}\n",
    "for link in page_links:\n",
    "    title,price = (None,None)\n",
    "    try:\n",
    "        title,price =product_scapper(link)\n",
    "    except:\n",
    "        pass\n",
    "    if title !=None and price!=None:\n",
    "        print(link,title,price)\n",
    "        a[title] = price"
   ]
  },
  {
   "cell_type": "code",
   "execution_count": 19,
   "metadata": {},
   "outputs": [],
   "source": [
    "#https://www.amazon.in/Lenovo-Ideapad-Windows-Platinum-81WE004YIN/dp/B08BSGB42Y/\n",
    "#https://www.amazon.in/Acer-SF314-41-Dual-core-processor-Integrated/dp/B08BVP6CRW/\n",
    "#<base_url><slug>/dp/<asin>"
   ]
  },
  {
   "cell_type": "code",
   "execution_count": 29,
   "metadata": {},
   "outputs": [],
   "source": [
    "regex_options = [\n",
    "    r\"https://www.amazon.in/gp/product/(?P<product_id>[\\w-]+)/\",\n",
    "    r\"https://www.amazon.in/dp/(?P<product_id>[\\w-]+)/\",\n",
    "    r\"https://www.amazon.in/(?P<slug>[\\w-]+)/dp/(?P<product_id>[\\w-]+)/\",\n",
    "]\n",
    "\n",
    "def extract_product_id_from_url(url):\n",
    "    product_id = None\n",
    "    for regex_str in regex_options:\n",
    "        regex = re.compile(regex_str)\n",
    "        match = regex.match(url)\n",
    "        if match != None:\n",
    "            try:\n",
    "                product_id = match['product_id']\n",
    "            except:\n",
    "                pass\n",
    "    return product_id\n"
   ]
  },
  {
   "cell_type": "code",
   "execution_count": 36,
   "metadata": {},
   "outputs": [],
   "source": [
    "\n",
    "page_links = [x for x in page_links if extract_product_id_from_url(x) != None]"
   ]
  },
  {
   "cell_type": "code",
   "execution_count": 42,
   "metadata": {},
   "outputs": [
    {
     "data": {
      "text/plain": [
       "32"
      ]
     },
     "execution_count": 42,
     "metadata": {},
     "output_type": "execute_result"
    }
   ],
   "source": [
    "len(page_links)"
   ]
  },
  {
   "cell_type": "code",
   "execution_count": 40,
   "metadata": {},
   "outputs": [],
   "source": [
    "def perform_scrape(cleaned_items=[]):\n",
    "    data_extracted = []\n",
    "    for obj in cleaned_items:\n",
    "        link = obj\n",
    "        title, price = (None, None)\n",
    "        try:\n",
    "            title, price = product_scapper(link)\n",
    "        except:\n",
    "            pass\n",
    "        if title != None and price != None:\n",
    "            print(link, title, price)\n",
    "        product_data = {\n",
    "            \"url\": obj,\n",
    "            \"title\": title,\n",
    "            \"price\": price\n",
    "        }\n",
    "        data_extracted.append(product_data)\n",
    "    return data_extracted"
   ]
  },
  {
   "cell_type": "code",
   "execution_count": 41,
   "metadata": {},
   "outputs": [
    {
     "name": "stdout",
     "output_type": "stream",
     "text": [
      "https://www.amazon.in/Lenovo-Windows-GTX1650-Graphics-81SY00C7IN/dp/B07VP6FGM8/ref=sr_1_15?dchild=1&keywords=laptop&qid=1595398961&sr=8-15 Lenovo Legion Y540 9th Gen Intel core i5 15.6 inch FHD Gaming Laptop(8GB/1TB SSD/Windows 10/MS Office/4GB NVIDIA GTX1650 Graphics/Black/2.3Kg), 81SY00C7IN ₹ 74,490.00\n",
      "https://www.amazon.in/Mi-Notebook-i5-10210U-Graphics-XMA1901-FA/dp/B089F4GTDW/ref=sr_1_3?dchild=1&keywords=laptop&qid=1595398961&sr=8-3#customerReviews Mi Notebook 14 Intel Core i5-10210U 10th Gen Thin and Light Laptop(8GB/512GB SSD/Windows 10/Intel UHD Graphics/Silver/1.5Kg), XMA1901-FA+Webcam ₹ 44,999.00\n",
      "https://www.amazon.in/Lenovo-ThinkPad-14-inch-Windows-20RAS0SG00/dp/B086VXW8WC/ref=sr_1_17?dchild=1&keywords=laptop&qid=1595398961&sr=8-17 Lenovo ThinkPad E14 Intel Core i3 10th Gen 14-inch Full HD Thin and Light Laptop (4GB RAM/ 1TB HDD/ Windows 10 Home/ Black/ 1.77 kg), 20RAS0SG00 ₹ 38,990.00\n",
      "https://www.amazon.in/Zinq-Technologies-Cooling-Notebook-Laptop/dp/B07TYPTCNV/ref=sr_1_20?dchild=1&keywords=laptop&qid=1595398961&sr=8-20 Zinq Technologies Cool Slate Dual Fan Cooling Pad for Notebook/Laptop with Dual USB Port(Black) ₹ 799.00\n",
      "https://www.amazon.in/Mi-Notebook-i5-10210U-Graphics-XMA1901-FA/dp/B089F4GTDW/ref=sr_1_3?dchild=1&keywords=laptop&qid=1595398961&sr=8-3 Mi Notebook 14 Intel Core i5-10210U 10th Gen Thin and Light Laptop(8GB/512GB SSD/Windows 10/Intel UHD Graphics/Silver/1.5Kg), XMA1901-FA+Webcam ₹ 44,999.00\n",
      "https://www.amazon.in/HP-Pavilion-15-6-inch-Graphics-15-bc504TX/dp/B07S8PXB2X/ref=sr_1_10?dchild=1&keywords=laptop&qid=1595398961&sr=8-10 HP Pavilion Gaming 9th Gen Intel Core i5 Processor 15.6-inch FHD Gaming Laptop (8GB/1TB HDD/Windows 10/NVIDIA GTX 1050 4GB Graphics/Shadow Black/2.17 kg), 15-bc504TX ₹ 66,580.00\n",
      "https://www.amazon.in/Lenovo-Windows-GTX1650-Graphics-81SY00C7IN/dp/B07VP6FGM8/ref=sr_1_15?dchild=1&keywords=laptop&qid=1595398961&sr=8-15#customerReviews Lenovo Legion Y540 9th Gen Intel core i5 15.6 inch FHD Gaming Laptop(8GB/1TB SSD/Windows 10/MS Office/4GB NVIDIA GTX1650 Graphics/Black/2.3Kg), 81SY00C7IN ₹ 74,490.00\n",
      "https://www.amazon.in/Lenovo-ThinkPad-14-inch-Microsoft-20RAS0KY00/dp/B089NZ7RMH/ref=sr_1_13?dchild=1&keywords=laptop&qid=1595398961&sr=8-13#customerReviews Lenovo ThinkPad E14 Intel Core i5 10th Gen 14-inch Full HD Thin and Light Laptop (8GB RAM/ 1TB HDD + 128GB SSD/ Windows 10 Home/ Microsoft Office Home & Student 2019/ Black/ 1.77 kg), 20RAS0KY00 ₹ 59,990.00\n",
      "https://www.amazon.in/HP-ds0058TU-15-6-inch-i3-8130U-Windows/dp/B085W6QPYF/ref=sr_1_19?dchild=1&keywords=laptop&qid=1595398961&sr=8-19#customerReviews HP 15q ds0058TU 15.6-inch Laptop (8th Gen Core i3-8130U/4GB/1TB HDD/Windows 10 Home/MS Office 2019), Jet Black ₹ 35,469.00\n",
      "https://www.amazon.in/Lenovo-Ideapad-Windows-Platinum-81WE004YIN/dp/B08BSGB42Y/ref=sr_1_8?dchild=1&keywords=laptop&qid=1595398961&sr=8-8#customerReviews Lenovo Ideapad Slim 3i Intel Core i5 10th Gen 15.6 FHD Thin and Light Laptop (8GB/1TB+256GB SSD/Windows/Office/Platinum Grey/1.85Kg), 81WE004YIN ₹ 50,990.00\n",
      "https://www.amazon.in/HP-ds0058TU-15-6-inch-i3-8130U-Windows/dp/B085W6QPYF/ref=sr_1_19?dchild=1&keywords=laptop&qid=1595398961&sr=8-19 HP 15q ds0058TU 15.6-inch Laptop (8th Gen Core i3-8130U/4GB/1TB HDD/Windows 10 Home/MS Office 2019), Jet Black ₹ 35,469.00\n",
      "https://www.amazon.in/HP-Processor-14-inch-i5-1035G1-cs3009TU/dp/B087S265GM/ref=sr_1_5?dchild=1&keywords=laptop&qid=1595398961&sr=8-5 HP 14 10th Gen Intel Core i5 Processor 14-inch Laptop (i5-1035G1/8GB/1TB HDD + 256GB SSD/Win 10 Home/MS Office/Natural Silver ),14s cs3009TU ₹ 59,999.00\n",
      "https://www.amazon.in/Zinq-Technologies-Cooling-Notebook-Laptop/dp/B07TYPTCNV/ref=sr_1_20?dchild=1&keywords=laptop&qid=1595398961&sr=8-20#customerReviews Zinq Technologies Cool Slate Dual Fan Cooling Pad for Notebook/Laptop with Dual USB Port(Black) ₹ 799.00\n",
      "https://www.amazon.in/Lenovo-ThinkPad-14-inch-Microsoft-20RAS0KY00/dp/B089NZ7RMH/ref=sr_1_13?dchild=1&keywords=laptop&qid=1595398961&sr=8-13 Lenovo ThinkPad E14 Intel Core i5 10th Gen 14-inch Full HD Thin and Light Laptop (8GB RAM/ 1TB HDD + 128GB SSD/ Windows 10 Home/ Microsoft Office Home & Student 2019/ Black/ 1.77 kg), 20RAS0KY00 ₹ 59,990.00\n",
      "https://www.amazon.in/HP-Pavilion-15-6-inch-Graphics-15-bc504TX/dp/B07S8PXB2X/ref=sr_1_10?dchild=1&keywords=laptop&qid=1595398961&sr=8-10#customerReviews HP Pavilion Gaming 9th Gen Intel Core i5 Processor 15.6-inch FHD Gaming Laptop (8GB/1TB HDD/Windows 10/NVIDIA GTX 1050 4GB Graphics/Shadow Black/2.17 kg), 15-bc504TX ₹ 66,580.00\n",
      "https://www.amazon.in/HP-Processor-14-inch-i5-1035G1-cs3009TU/dp/B087S265GM/ref=sr_1_5?dchild=1&keywords=laptop&qid=1595398961&sr=8-5#customerReviews HP 14 10th Gen Intel Core i5 Processor 14-inch Laptop (i5-1035G1/8GB/1TB HDD + 256GB SSD/Win 10 Home/MS Office/Natural Silver ),14s cs3009TU ₹ 59,999.00\n",
      "https://www.amazon.in/Lenovo-Ideapad-Windows-Platinum-81WE004YIN/dp/B08BSGB42Y/ref=sr_1_8?dchild=1&keywords=laptop&qid=1595398961&sr=8-8 Lenovo Ideapad Slim 3i Intel Core i5 10th Gen 15.6 FHD Thin and Light Laptop (8GB/1TB+256GB SSD/Windows/Office/Platinum Grey/1.85Kg), 81WE004YIN ₹ 50,990.00\n",
      "https://www.amazon.in/Lenovo-Legion-Gaming-Windows-81SY00SUIN/dp/B088RLLCD1/ref=sr_1_9?dchild=1&keywords=laptop&qid=1595398961&sr=8-9 Lenovo Legion Y540 Intel Core i7 9th Gen 15.6 inch FHD Gaming Laptop (8GB/1TB HDD + 256 GB SSD/Windows 10/4GB NVIDIA GTX 1650/Black/2.3Kg), 81SY00SUIN ₹ 77,990.00\n",
      "https://www.amazon.in/Lenovo-Legion-Gaming-Windows-81SY00SUIN/dp/B088RLLCD1/ref=sr_1_9?dchild=1&keywords=laptop&qid=1595398961&sr=8-9#customerReviews Lenovo Legion Y540 Intel Core i7 9th Gen 15.6 inch FHD Gaming Laptop (8GB/1TB HDD + 256 GB SSD/Windows 10/4GB NVIDIA GTX 1650/Black/2.3Kg), 81SY00SUIN ₹ 77,990.00\n",
      "https://www.amazon.in/Lenovo-Ideapad-Convertible-Laptop-81TK00GTIN/dp/B08695HMJQ/ref=sr_1_18?dchild=1&keywords=laptop&qid=1595398961&sr=8-18 Lenovo Ideapad C340 Intel Core i5 10th Gen 14 inch FHD 2 in 1 Convertible Laptop (8GB/512GB SSD/Window/Office/Gray/1.6Kg), 81TK00GTIN ₹ 65,990.00\n",
      "https://www.amazon.in/Lenovo-Ideapad-Convertible-Laptop-81TK00GTIN/dp/B08695HMJQ/ref=sr_1_18?dchild=1&keywords=laptop&qid=1595398961&sr=8-18#customerReviews Lenovo Ideapad C340 Intel Core i5 10th Gen 14 inch FHD 2 in 1 Convertible Laptop (8GB/512GB SSD/Window/Office/Gray/1.6Kg), 81TK00GTIN ₹ 65,990.00\n",
      "https://www.amazon.in/Lenovo-ThinkPad-14-inch-Windows-20RAS0SG00/dp/B086VXW8WC/ref=sr_1_17?dchild=1&keywords=laptop&qid=1595398961&sr=8-17#customerReviews Lenovo ThinkPad E14 Intel Core i3 10th Gen 14-inch Full HD Thin and Light Laptop (4GB RAM/ 1TB HDD/ Windows 10 Home/ Black/ 1.77 kg), 20RAS0SG00 ₹ 38,990.00\n"
     ]
    }
   ],
   "source": [
    "\n",
    "extracted_data = perform_scrape(cleaned_items=page_links)"
   ]
  },
  {
   "cell_type": "code",
   "execution_count": 43,
   "metadata": {},
   "outputs": [
    {
     "data": {
      "text/plain": [
       "32"
      ]
     },
     "execution_count": 43,
     "metadata": {},
     "output_type": "execute_result"
    }
   ],
   "source": [
    "len(extracted_data)"
   ]
  },
  {
   "cell_type": "code",
   "execution_count": null,
   "metadata": {},
   "outputs": [],
   "source": []
  }
 ],
 "metadata": {
  "kernelspec": {
   "display_name": "Python 3",
   "language": "python",
   "name": "python3"
  },
  "language_info": {
   "codemirror_mode": {
    "name": "ipython",
    "version": 3
   },
   "file_extension": ".py",
   "mimetype": "text/x-python",
   "name": "python",
   "nbconvert_exporter": "python",
   "pygments_lexer": "ipython3",
   "version": "3.7.7"
  }
 },
 "nbformat": 4,
 "nbformat_minor": 4
}
