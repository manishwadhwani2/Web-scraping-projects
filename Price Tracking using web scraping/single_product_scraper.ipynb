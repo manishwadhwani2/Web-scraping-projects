{
 "cells": [
  {
   "cell_type": "code",
   "execution_count": 17,
   "metadata": {},
   "outputs": [],
   "source": [
    "import requests\n",
    "from selenium import webdriver\n",
    "from selenium.webdriver.chrome.options import Options"
   ]
  },
  {
   "cell_type": "code",
   "execution_count": 5,
   "metadata": {},
   "outputs": [],
   "source": [
    "url = \"https://www.amazon.in/SanNap-Luxuria-Designer-Pollution-Breathing/dp/B08BB8HTLD/ref=sxin_7?ascsubtag=amzn1.osa.409223a9-aabb-4203-979c-ffc573d2306f.A21TJRUUN4KGV.en_IN&creativeASIN=B08BB8HTLD&cv_ct_cx=N95&cv_ct_id=amzn1.osa.409223a9-aabb-4203-979c-ffc573d2306f.A21TJRUUN4KGV.en_IN&cv_ct_pg=search&cv_ct_wn=osp-single-source-gl-ranking&dchild=1&keywords=N95&linkCode=oas&pd_rd_i=B08BB8HTLD&pd_rd_r=d110297f-b6b7-4fb2-8f62-2f30165f087b&pd_rd_w=cOzGw&pd_rd_wg=6Vnt5&pf_rd_p=a405b90d-908a-491d-912a-37b593272670&pf_rd_r=GZP31N72WBEZ7F14V3X5&qid=1595383625&sr=1-2-5b72de9d-29e4-4d53-b588-61ea05f598f4&tag=firstpost1610-21\"\n",
    "title_lookup = \"#productTitle\"\n",
    "price_lookup = \"#priceblock_saleprice\""
   ]
  },
  {
   "cell_type": "code",
   "execution_count": 23,
   "metadata": {},
   "outputs": [],
   "source": [
    "options = Options()\n",
    "options.add_argument('--headless')\n",
    "options.add_argument('--incognito')\n",
    "options.add_argument('--ignore-certificate-errors')"
   ]
  },
  {
   "cell_type": "code",
   "execution_count": 24,
   "metadata": {},
   "outputs": [],
   "source": [
    "drivers = webdriver.Chrome(options = options)"
   ]
  },
  {
   "cell_type": "code",
   "execution_count": 26,
   "metadata": {},
   "outputs": [],
   "source": [
    "drivers.get(url)"
   ]
  },
  {
   "cell_type": "code",
   "execution_count": 28,
   "metadata": {},
   "outputs": [],
   "source": [
    "body_el = drivers.find_element_by_css_selector(\"body\")"
   ]
  },
  {
   "cell_type": "code",
   "execution_count": 30,
   "metadata": {},
   "outputs": [],
   "source": [
    "html_str = body_el.get_attribute(\"innerHTML\")"
   ]
  },
  {
   "cell_type": "code",
   "execution_count": 8,
   "metadata": {},
   "outputs": [],
   "source": [
    "from requests_html import HTML"
   ]
  },
  {
   "cell_type": "code",
   "execution_count": 31,
   "metadata": {},
   "outputs": [],
   "source": [
    "html_obj = HTML(html =html_str)"
   ]
  },
  {
   "cell_type": "code",
   "execution_count": 33,
   "metadata": {},
   "outputs": [],
   "source": [
    "product_title = html_obj.find(title_lookup,first = True).text"
   ]
  },
  {
   "cell_type": "code",
   "execution_count": 34,
   "metadata": {},
   "outputs": [],
   "source": [
    "price = html_obj.find(price_lookup,first = True).text"
   ]
  },
  {
   "cell_type": "code",
   "execution_count": 35,
   "metadata": {},
   "outputs": [
    {
     "name": "stdout",
     "output_type": "stream",
     "text": [
      "₹ 399.00\n"
     ]
    }
   ],
   "source": [
    "print(price)\n"
   ]
  },
  {
   "cell_type": "code",
   "execution_count": null,
   "metadata": {},
   "outputs": [],
   "source": []
  }
 ],
 "metadata": {
  "kernelspec": {
   "display_name": "Python 3",
   "language": "python",
   "name": "python3"
  },
  "language_info": {
   "codemirror_mode": {
    "name": "ipython",
    "version": 3
   },
   "file_extension": ".py",
   "mimetype": "text/x-python",
   "name": "python",
   "nbconvert_exporter": "python",
   "pygments_lexer": "ipython3",
   "version": "3.7.7"
  }
 },
 "nbformat": 4,
 "nbformat_minor": 4
}
